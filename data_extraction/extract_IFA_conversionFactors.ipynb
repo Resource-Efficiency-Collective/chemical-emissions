{
 "cells": [
  {
   "cell_type": "code",
   "metadata": {
    "collapsed": true
   },
   "source": [
    "import os\n",
    "import re\n",
    "import pandas as pd\n",
    "\n",
    "## INSERT DATA PATH HERE\n",
    "data_path = \"\"\n",
    "column_headers = ['Product', 'CO2 from raw materials', 'CO2 from energy supply', 'N2O & CH4 from production', 'CO2 from production', 'CO2 captured in product', 'Total (incl. captured CO2)', 'Total(excl. captured CO2)']"
   ],
   "outputs": [],
   "execution_count": null
  },
  {
   "cell_type": "code",
   "source": [
    "def read_txt_to_pd(text:str, column_headers) -> pd.DataFrame:\n",
    "    start = 0\n",
    "    while start < len(text):\n",
    "        first = text[start:].find('0.')\n",
    "        name = text[start:start+first]\n",
    "        last_search = re.search('[a-zA-Z]', text[start+first:])\n",
    "        try: last = last_search.span()[0]\n",
    "        except: last = len(text)-start+first\n",
    "        values = text[start+first:start+first+last-1].rstrip().replace(\" \", \",\")\n",
    "        with open('temp.txt', 'a') as f:\n",
    "            f.write(name.replace(',','').rstrip()+','+values+'\\n')\n",
    "        start = start+first+last\n",
    "\n",
    "    emission_factors = pd.read_csv('temp.txt', header=None)\n",
    "    os.remove('temp.txt')\n",
    "    emission_factors.columns = column_headers\n",
    "    return emission_factors"
   ],
   "metadata": {
    "collapsed": false,
    "pycharm": {
     "name": "#%%\n"
    }
   },
   "outputs": [],
   "execution_count": null
  },
  {
   "cell_type": "code",
   "source": [
    "# Single value read\n",
    "f = open(data_path+'all_fertilisers.txt', \"r\")\n",
    "text = f.read().replace(\"\\n\", \" \")\n",
    "emission_factors = read_txt_to_pd(text, column_headers)\n",
    "\n",
    "regional = pd.DataFrame()\n",
    "for file in os.listdir(data_path+'emission_factor_txts/'):\n",
    "    f = open(data_path+'emission_factor_txts/'+file)\n",
    "    text = f.read().replace(\"\\n\", \" \")\n",
    "    fert = read_txt_to_pd(text, column_headers).rename(columns={'PRODUCT':'Region'})\n",
    "    fert['PRODUCT'] = file.split('.tx')[0]\n",
    "    regional = pd.concat((regional, fert), axis=0)"
   ],
   "metadata": {
    "collapsed": false,
    "pycharm": {
     "name": "#%%\n"
    }
   },
   "outputs": [],
   "execution_count": null
  },
  {
   "cell_type": "code",
   "source": [
    "converted = emission_factors.copy()\n",
    "converted['ifa_CO2e_100a_Direct Process factor'] = -converted['CO2 captured in product']\n",
    "converted['ifa_CO2e_100a_Direct Utilities factor'] = converted['N2O & CH4 from production']+converted['CO2 from production']\n",
    "converted = converted.rename(columns={'CO2 from raw materials':'ifa_CO2e_100a_Raw Material factor', 'CO2 from energy supply':'ifa_CO2e_100a_Indirect Utilities factor', 'Total(excl. captured CO2)':'ifa_CO2e_100a_CtOG factor'}).drop(columns=['Total (incl. captured CO2)', 'CO2 captured in product', 'CO2 from production', 'N2O & CH4 from production'])\n",
    "converted['ifa_CO2e_100a_CtOG factor'] = converted['ifa_CO2e_100a_CtOG factor']+converted['ifa_CO2e_100a_Direct Process factor']\n",
    "\n",
    "converted"
   ],
   "metadata": {
    "collapsed": false,
    "pycharm": {
     "name": "#%%\n"
    }
   },
   "outputs": [],
   "execution_count": null
  },
  {
   "cell_type": "code",
   "source": [
    "converted.to_csv('../data/extracted/conversionFactors_from_IFA.csv')"
   ],
   "metadata": {
    "collapsed": false,
    "pycharm": {
     "name": "#%%\n"
    }
   },
   "outputs": [],
   "execution_count": null
  },
  {
   "cell_type": "code",
   "source": [
    "## Add uncertainties\n",
    "\n",
    "converted = pd.read_csv('../data/extracted/conversionFactors_from_IFA.csv', index_col=0)\n",
    "\n",
    "conversion_uncertainty = 0.1\n",
    "\n",
    "for col in converted.columns[1:]:\n",
    "    converted[col.replace('factor','sigma')] = converted[col]*conversion_uncertainty\n",
    "\n",
    "converted.to_csv('../data/extracted/conversionFactors_from_IFA_w_uncertainties.csv')"
   ],
   "metadata": {
    "collapsed": false,
    "pycharm": {
     "name": "#%%\n"
    }
   },
   "outputs": [],
   "execution_count": null
  }
 ],
 "metadata": {
  "kernelspec": {
   "display_name": "Python 3",
   "language": "python",
   "name": "python3"
  },
  "language_info": {
   "codemirror_mode": {
    "name": "ipython",
    "version": 2
   },
   "file_extension": ".py",
   "mimetype": "text/x-python",
   "name": "python",
   "nbconvert_exporter": "python",
   "pygments_lexer": "ipython2",
   "version": "2.7.6"
  }
 },
 "nbformat": 4,
 "nbformat_minor": 0
}
