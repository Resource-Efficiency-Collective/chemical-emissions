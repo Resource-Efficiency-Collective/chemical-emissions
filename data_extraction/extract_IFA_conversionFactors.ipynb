{
 "cells": [
  {
   "cell_type": "code",
   "execution_count": 7,
   "metadata": {
    "collapsed": true
   },
   "outputs": [],
   "source": [
    "import os\n",
    "import re\n",
    "import pandas as pd\n",
    "data_path = \"\"\n",
    "column_headers = ['Product', 'CO2 from raw materials', 'CO2 from energy supply', 'N2O & CH4 from production', 'CO2 from production', 'CO2 captured in product', 'Total (incl. captured CO2)', 'Total(excl. captured CO2)']"
   ]
  },
  {
   "cell_type": "code",
   "execution_count": 8,
   "outputs": [],
   "source": [
    "def read_txt_to_pd(text:str, column_headers) -> pd.DataFrame:\n",
    "    start = 0\n",
    "    while start < len(text):\n",
    "        first = text[start:].find('0.')\n",
    "        name = text[start:start+first]\n",
    "        last_search = re.search('[a-zA-Z]', text[start+first:])\n",
    "        try: last = last_search.span()[0]\n",
    "        except: last = len(text)-start+first\n",
    "        values = text[start+first:start+first+last-1].rstrip().replace(\" \", \",\")\n",
    "        with open('temp.txt', 'a') as f:\n",
    "            f.write(name.replace(',','').rstrip()+','+values+'\\n')\n",
    "        start = start+first+last\n",
    "\n",
    "    emission_factors = pd.read_csv('temp.txt', header=None)\n",
    "    os.remove('temp.txt')\n",
    "    emission_factors.columns = column_headers\n",
    "    return emission_factors"
   ],
   "metadata": {
    "collapsed": false,
    "pycharm": {
     "name": "#%%\n"
    }
   }
  },
  {
   "cell_type": "code",
   "execution_count": 9,
   "outputs": [],
   "source": [
    "# Single value read\n",
    "f = open(data_path+'all_fertilisers.txt', \"r\")\n",
    "text = f.read().replace(\"\\n\", \" \")\n",
    "emission_factors = read_txt_to_pd(text, column_headers)\n",
    "\n",
    "regional = pd.DataFrame()\n",
    "for file in os.listdir(data_path+'emission_factor_txts/'):\n",
    "    f = open(data_path+'emission_factor_txts/'+file)\n",
    "    text = f.read().replace(\"\\n\", \" \")\n",
    "    fert = read_txt_to_pd(text, column_headers).rename(columns={'PRODUCT':'Region'})\n",
    "    fert['PRODUCT'] = file.split('.tx')[0]\n",
    "    regional = pd.concat((regional, fert), axis=0)"
   ],
   "metadata": {
    "collapsed": false,
    "pycharm": {
     "name": "#%%\n"
    }
   }
  },
  {
   "cell_type": "code",
   "execution_count": 10,
   "outputs": [
    {
     "data": {
      "text/plain": "                                   Product  ifa_CO2e_100a_Raw Material factor  \\\n0                                  Ammonia                              0.000   \n1   Ammonium nitrate (33.5-0-0) granulated                              0.000   \n2      Ammonium nitrate (33.5-0-0) prilled                              0.000   \n3                Ammonium nitrate sulphate                              0.000   \n4                        Ammonium sulphate                              0.000   \n5        Calcium ammonium nitrate (27-0-0)                              0.014   \n6               Calcium nitrate (15.5-0-0)                              0.000   \n7                            DAP (18-46-0)                              0.074   \n8                       Mixed acid process                              0.082   \n9                            MAP (11-52-0)                              0.083   \n10                             Nitric acid                              0.000   \n11                  Nitrophosphate process                              0.081   \n12                            SSP (0-18-0)                              0.030   \n13                            TSP (0-46-0)                              0.074   \n14                           Urea (46-0-0)                              0.000   \n15                                  UAN-30                              0.000   \n\n    ifa_CO2e_100a_Indirect Utilities factor  ifa_CO2e_100a_CtOG factor  \\\n0                                     0.395                      2.297   \n1                                     0.173                      1.145   \n2                                     0.166                      1.112   \n3                                     0.130                      0.797   \n4                                     0.101                      0.563   \n5                                     0.142                      0.950   \n6                                     0.089                      0.636   \n7                                     0.091                      0.562   \n8                                     0.082                      0.595   \n9                                     0.056                      0.366   \n10                                    0.092                      0.738   \n11                                    0.098                      0.683   \n12                                    0.006                      0.052   \n13                                    0.012                      0.115   \n14                                    0.278                      0.145   \n15                                    0.165                      0.543   \n\n    ifa_CO2e_100a_Direct Process factor  ifa_CO2e_100a_Direct Utilities factor  \n0                                -0.000                                  1.901  \n1                                -0.000                                  0.971  \n2                                -0.000                                  0.945  \n3                                -0.000                                  0.667  \n4                                -0.000                                  0.462  \n5                                -0.000                                  0.794  \n6                                -0.000                                  0.547  \n7                                -0.000                                  0.398  \n8                                -0.000                                  0.431  \n9                                -0.000                                  0.227  \n10                               -0.000                                  0.646  \n11                               -0.000                                  0.504  \n12                               -0.000                                  0.016  \n13                               -0.000                                  0.029  \n14                               -0.733                                  0.600  \n15                               -0.239                                  0.616  ",
      "text/html": "<div>\n<style scoped>\n    .dataframe tbody tr th:only-of-type {\n        vertical-align: middle;\n    }\n\n    .dataframe tbody tr th {\n        vertical-align: top;\n    }\n\n    .dataframe thead th {\n        text-align: right;\n    }\n</style>\n<table border=\"1\" class=\"dataframe\">\n  <thead>\n    <tr style=\"text-align: right;\">\n      <th></th>\n      <th>Product</th>\n      <th>ifa_CO2e_100a_Raw Material factor</th>\n      <th>ifa_CO2e_100a_Indirect Utilities factor</th>\n      <th>ifa_CO2e_100a_CtOG factor</th>\n      <th>ifa_CO2e_100a_Direct Process factor</th>\n      <th>ifa_CO2e_100a_Direct Utilities factor</th>\n    </tr>\n  </thead>\n  <tbody>\n    <tr>\n      <th>0</th>\n      <td>Ammonia</td>\n      <td>0.000</td>\n      <td>0.395</td>\n      <td>2.297</td>\n      <td>-0.000</td>\n      <td>1.901</td>\n    </tr>\n    <tr>\n      <th>1</th>\n      <td>Ammonium nitrate (33.5-0-0) granulated</td>\n      <td>0.000</td>\n      <td>0.173</td>\n      <td>1.145</td>\n      <td>-0.000</td>\n      <td>0.971</td>\n    </tr>\n    <tr>\n      <th>2</th>\n      <td>Ammonium nitrate (33.5-0-0) prilled</td>\n      <td>0.000</td>\n      <td>0.166</td>\n      <td>1.112</td>\n      <td>-0.000</td>\n      <td>0.945</td>\n    </tr>\n    <tr>\n      <th>3</th>\n      <td>Ammonium nitrate sulphate</td>\n      <td>0.000</td>\n      <td>0.130</td>\n      <td>0.797</td>\n      <td>-0.000</td>\n      <td>0.667</td>\n    </tr>\n    <tr>\n      <th>4</th>\n      <td>Ammonium sulphate</td>\n      <td>0.000</td>\n      <td>0.101</td>\n      <td>0.563</td>\n      <td>-0.000</td>\n      <td>0.462</td>\n    </tr>\n    <tr>\n      <th>5</th>\n      <td>Calcium ammonium nitrate (27-0-0)</td>\n      <td>0.014</td>\n      <td>0.142</td>\n      <td>0.950</td>\n      <td>-0.000</td>\n      <td>0.794</td>\n    </tr>\n    <tr>\n      <th>6</th>\n      <td>Calcium nitrate (15.5-0-0)</td>\n      <td>0.000</td>\n      <td>0.089</td>\n      <td>0.636</td>\n      <td>-0.000</td>\n      <td>0.547</td>\n    </tr>\n    <tr>\n      <th>7</th>\n      <td>DAP (18-46-0)</td>\n      <td>0.074</td>\n      <td>0.091</td>\n      <td>0.562</td>\n      <td>-0.000</td>\n      <td>0.398</td>\n    </tr>\n    <tr>\n      <th>8</th>\n      <td>Mixed acid process</td>\n      <td>0.082</td>\n      <td>0.082</td>\n      <td>0.595</td>\n      <td>-0.000</td>\n      <td>0.431</td>\n    </tr>\n    <tr>\n      <th>9</th>\n      <td>MAP (11-52-0)</td>\n      <td>0.083</td>\n      <td>0.056</td>\n      <td>0.366</td>\n      <td>-0.000</td>\n      <td>0.227</td>\n    </tr>\n    <tr>\n      <th>10</th>\n      <td>Nitric acid</td>\n      <td>0.000</td>\n      <td>0.092</td>\n      <td>0.738</td>\n      <td>-0.000</td>\n      <td>0.646</td>\n    </tr>\n    <tr>\n      <th>11</th>\n      <td>Nitrophosphate process</td>\n      <td>0.081</td>\n      <td>0.098</td>\n      <td>0.683</td>\n      <td>-0.000</td>\n      <td>0.504</td>\n    </tr>\n    <tr>\n      <th>12</th>\n      <td>SSP (0-18-0)</td>\n      <td>0.030</td>\n      <td>0.006</td>\n      <td>0.052</td>\n      <td>-0.000</td>\n      <td>0.016</td>\n    </tr>\n    <tr>\n      <th>13</th>\n      <td>TSP (0-46-0)</td>\n      <td>0.074</td>\n      <td>0.012</td>\n      <td>0.115</td>\n      <td>-0.000</td>\n      <td>0.029</td>\n    </tr>\n    <tr>\n      <th>14</th>\n      <td>Urea (46-0-0)</td>\n      <td>0.000</td>\n      <td>0.278</td>\n      <td>0.145</td>\n      <td>-0.733</td>\n      <td>0.600</td>\n    </tr>\n    <tr>\n      <th>15</th>\n      <td>UAN-30</td>\n      <td>0.000</td>\n      <td>0.165</td>\n      <td>0.543</td>\n      <td>-0.239</td>\n      <td>0.616</td>\n    </tr>\n  </tbody>\n</table>\n</div>"
     },
     "execution_count": 10,
     "metadata": {},
     "output_type": "execute_result"
    }
   ],
   "source": [
    "converted = emission_factors.copy()\n",
    "converted['ifa_CO2e_100a_Direct Process factor'] = -converted['CO2 captured in product']\n",
    "converted['ifa_CO2e_100a_Direct Utilities factor'] = converted['N2O & CH4 from production']+converted['CO2 from production']\n",
    "converted = converted.rename(columns={'CO2 from raw materials':'ifa_CO2e_100a_Raw Material factor', 'CO2 from energy supply':'ifa_CO2e_100a_Indirect Utilities factor', 'Total(excl. captured CO2)':'ifa_CO2e_100a_CtOG factor'}).drop(columns=['Total (incl. captured CO2)', 'CO2 captured in product', 'CO2 from production', 'N2O & CH4 from production'])\n",
    "converted['ifa_CO2e_100a_CtOG factor'] = converted['ifa_CO2e_100a_CtOG factor']+converted['ifa_CO2e_100a_Direct Process factor']\n",
    "\n",
    "converted"
   ],
   "metadata": {
    "collapsed": false,
    "pycharm": {
     "name": "#%%\n"
    }
   }
  },
  {
   "cell_type": "code",
   "execution_count": 35,
   "outputs": [],
   "source": [
    "converted.to_csv('../data/extracted/conversionFactors_from_IFA.csv')"
   ],
   "metadata": {
    "collapsed": false,
    "pycharm": {
     "name": "#%%\n"
    }
   }
  },
  {
   "cell_type": "code",
   "execution_count": 5,
   "outputs": [],
   "source": [
    "## Add uncertainties\n",
    "\n",
    "converted = pd.read_csv('../data/extracted/conversionFactors_from_IFA.csv', index_col=0)\n",
    "\n",
    "conversion_uncertainty = 0.1\n",
    "\n",
    "for col in converted.columns[1:]:\n",
    "    converted[col.replace('factor','sigma')] = converted[col]*conversion_uncertainty\n",
    "\n",
    "converted.to_csv('../data/extracted/conversionFactors_from_IFA_w_uncertainties.csv')"
   ],
   "metadata": {
    "collapsed": false,
    "pycharm": {
     "name": "#%%\n"
    }
   }
  },
  {
   "cell_type": "code",
   "execution_count": null,
   "outputs": [],
   "source": [],
   "metadata": {
    "collapsed": false,
    "pycharm": {
     "name": "#%%\n"
    }
   }
  }
 ],
 "metadata": {
  "kernelspec": {
   "display_name": "Python 3",
   "language": "python",
   "name": "python3"
  },
  "language_info": {
   "codemirror_mode": {
    "name": "ipython",
    "version": 2
   },
   "file_extension": ".py",
   "mimetype": "text/x-python",
   "name": "python",
   "nbconvert_exporter": "python",
   "pygments_lexer": "ipython2",
   "version": "2.7.6"
  }
 },
 "nbformat": 4,
 "nbformat_minor": 0
}
