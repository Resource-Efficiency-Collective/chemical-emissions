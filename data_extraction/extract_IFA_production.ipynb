{
 "cells": [
  {
   "cell_type": "code",
   "execution_count": 2,
   "metadata": {
    "collapsed": true,
    "ExecuteTime": {
     "end_time": "2024-03-18T13:48:26.194480Z",
     "start_time": "2024-03-18T13:48:25.455295Z"
    }
   },
   "outputs": [],
   "source": [
    "import os\n",
    "import pandas as pd\n",
    "import matplotlib.pyplot as plt"
   ]
  },
  {
   "cell_type": "code",
   "execution_count": 5,
   "outputs": [],
   "source": [
    "data_path = ''\n",
    "output_data_path = '/data/extracted/'"
   ],
   "metadata": {
    "collapsed": false,
    "pycharm": {
     "name": "#%%\n"
    },
    "ExecuteTime": {
     "end_time": "2024-03-18T13:49:09.240434Z",
     "start_time": "2024-03-18T13:49:09.228673Z"
    }
   }
  },
  {
   "cell_type": "code",
   "execution_count": 6,
   "outputs": [
    {
     "ename": "KeyError",
     "evalue": "'[2009, 2010, 2011, 2012, 2013, 2014, 2015, 2016, 2017, 2018, 2019, 2020] not in index'",
     "output_type": "error",
     "traceback": [
      "\u001B[0;31m---------------------------------------------------------------------------\u001B[0m",
      "\u001B[0;31mKeyError\u001B[0m                                  Traceback (most recent call last)",
      "Cell \u001B[0;32mIn[6], line 11\u001B[0m\n\u001B[1;32m      7\u001B[0m sheets \u001B[38;5;241m=\u001B[39m [name \u001B[38;5;28;01mfor\u001B[39;00m name \u001B[38;5;129;01min\u001B[39;00m open_file\u001B[38;5;241m.\u001B[39msheet_names]\n\u001B[1;32m      9\u001B[0m \u001B[38;5;28;01mfor\u001B[39;00m sheet \u001B[38;5;129;01min\u001B[39;00m sheets:\n\u001B[0;32m---> 11\u001B[0m     data \u001B[38;5;241m=\u001B[39m \u001B[43mpd\u001B[49m\u001B[38;5;241;43m.\u001B[39;49m\u001B[43mread_excel\u001B[49m\u001B[43m(\u001B[49m\u001B[43mdata_path\u001B[49m\u001B[38;5;241;43m+\u001B[39;49m\u001B[43mfile\u001B[49m\u001B[43m,\u001B[49m\u001B[43m \u001B[49m\u001B[43msheet_name\u001B[49m\u001B[38;5;241;43m=\u001B[39;49m\u001B[43msheet\u001B[49m\u001B[43m,\u001B[49m\u001B[43m \u001B[49m\u001B[43mskiprows\u001B[49m\u001B[38;5;241;43m=\u001B[39;49m\u001B[38;5;241;43m6\u001B[39;49m\u001B[43m)\u001B[49m\u001B[43m[\u001B[49m\u001B[43m:\u001B[49m\u001B[38;5;241;43m11\u001B[39;49m\u001B[43m]\u001B[49m\u001B[43m[\u001B[49m\u001B[43m[\u001B[49m\u001B[38;5;124;43m'\u001B[39;49m\u001B[38;5;124;43mUnnamed: 0\u001B[39;49m\u001B[38;5;124;43m'\u001B[39;49m\u001B[43m]\u001B[49m\u001B[38;5;241;43m+\u001B[39;49m\u001B[38;5;28;43mlist\u001B[39;49m\u001B[43m(\u001B[49m\u001B[38;5;28;43mrange\u001B[39;49m\u001B[43m(\u001B[49m\u001B[38;5;241;43m2009\u001B[39;49m\u001B[43m,\u001B[49m\u001B[43m \u001B[49m\u001B[38;5;241;43m2021\u001B[39;49m\u001B[43m)\u001B[49m\u001B[43m)\u001B[49m\u001B[43m]\u001B[49m\u001B[38;5;241m.\u001B[39mrename(columns\u001B[38;5;241m=\u001B[39m{\u001B[38;5;124m'\u001B[39m\u001B[38;5;124mUnnamed: 0\u001B[39m\u001B[38;5;124m'\u001B[39m: \u001B[38;5;124m'\u001B[39m\u001B[38;5;124mRegion\u001B[39m\u001B[38;5;124m'\u001B[39m})\u001B[38;5;241m.\u001B[39mset_index([\u001B[38;5;124m'\u001B[39m\u001B[38;5;124mRegion\u001B[39m\u001B[38;5;124m'\u001B[39m])\n\u001B[1;32m     13\u001B[0m     \u001B[38;5;66;03m# Remove total string\u001B[39;00m\n\u001B[1;32m     14\u001B[0m     data\u001B[38;5;241m.\u001B[39mindex \u001B[38;5;241m=\u001B[39m data\u001B[38;5;241m.\u001B[39mindex\u001B[38;5;241m.\u001B[39mstr\u001B[38;5;241m.\u001B[39mreplace(\u001B[38;5;124m'\u001B[39m\u001B[38;5;124mTotal \u001B[39m\u001B[38;5;124m'\u001B[39m, \u001B[38;5;124m'\u001B[39m\u001B[38;5;124m'\u001B[39m)\n",
      "File \u001B[0;32m~/Library/Python/3.9/lib/python/site-packages/pandas/core/frame.py:3899\u001B[0m, in \u001B[0;36mDataFrame.__getitem__\u001B[0;34m(self, key)\u001B[0m\n\u001B[1;32m   3897\u001B[0m     \u001B[38;5;28;01mif\u001B[39;00m is_iterator(key):\n\u001B[1;32m   3898\u001B[0m         key \u001B[38;5;241m=\u001B[39m \u001B[38;5;28mlist\u001B[39m(key)\n\u001B[0;32m-> 3899\u001B[0m     indexer \u001B[38;5;241m=\u001B[39m \u001B[38;5;28;43mself\u001B[39;49m\u001B[38;5;241;43m.\u001B[39;49m\u001B[43mcolumns\u001B[49m\u001B[38;5;241;43m.\u001B[39;49m\u001B[43m_get_indexer_strict\u001B[49m\u001B[43m(\u001B[49m\u001B[43mkey\u001B[49m\u001B[43m,\u001B[49m\u001B[43m \u001B[49m\u001B[38;5;124;43m\"\u001B[39;49m\u001B[38;5;124;43mcolumns\u001B[39;49m\u001B[38;5;124;43m\"\u001B[39;49m\u001B[43m)\u001B[49m[\u001B[38;5;241m1\u001B[39m]\n\u001B[1;32m   3901\u001B[0m \u001B[38;5;66;03m# take() does not accept boolean indexers\u001B[39;00m\n\u001B[1;32m   3902\u001B[0m \u001B[38;5;28;01mif\u001B[39;00m \u001B[38;5;28mgetattr\u001B[39m(indexer, \u001B[38;5;124m\"\u001B[39m\u001B[38;5;124mdtype\u001B[39m\u001B[38;5;124m\"\u001B[39m, \u001B[38;5;28;01mNone\u001B[39;00m) \u001B[38;5;241m==\u001B[39m \u001B[38;5;28mbool\u001B[39m:\n",
      "File \u001B[0;32m~/Library/Python/3.9/lib/python/site-packages/pandas/core/indexes/base.py:6115\u001B[0m, in \u001B[0;36mIndex._get_indexer_strict\u001B[0;34m(self, key, axis_name)\u001B[0m\n\u001B[1;32m   6112\u001B[0m \u001B[38;5;28;01melse\u001B[39;00m:\n\u001B[1;32m   6113\u001B[0m     keyarr, indexer, new_indexer \u001B[38;5;241m=\u001B[39m \u001B[38;5;28mself\u001B[39m\u001B[38;5;241m.\u001B[39m_reindex_non_unique(keyarr)\n\u001B[0;32m-> 6115\u001B[0m \u001B[38;5;28;43mself\u001B[39;49m\u001B[38;5;241;43m.\u001B[39;49m\u001B[43m_raise_if_missing\u001B[49m\u001B[43m(\u001B[49m\u001B[43mkeyarr\u001B[49m\u001B[43m,\u001B[49m\u001B[43m \u001B[49m\u001B[43mindexer\u001B[49m\u001B[43m,\u001B[49m\u001B[43m \u001B[49m\u001B[43maxis_name\u001B[49m\u001B[43m)\u001B[49m\n\u001B[1;32m   6117\u001B[0m keyarr \u001B[38;5;241m=\u001B[39m \u001B[38;5;28mself\u001B[39m\u001B[38;5;241m.\u001B[39mtake(indexer)\n\u001B[1;32m   6118\u001B[0m \u001B[38;5;28;01mif\u001B[39;00m \u001B[38;5;28misinstance\u001B[39m(key, Index):\n\u001B[1;32m   6119\u001B[0m     \u001B[38;5;66;03m# GH 42790 - Preserve name from an Index\u001B[39;00m\n",
      "File \u001B[0;32m~/Library/Python/3.9/lib/python/site-packages/pandas/core/indexes/base.py:6179\u001B[0m, in \u001B[0;36mIndex._raise_if_missing\u001B[0;34m(self, key, indexer, axis_name)\u001B[0m\n\u001B[1;32m   6176\u001B[0m     \u001B[38;5;28;01mraise\u001B[39;00m \u001B[38;5;167;01mKeyError\u001B[39;00m(\u001B[38;5;124mf\u001B[39m\u001B[38;5;124m\"\u001B[39m\u001B[38;5;124mNone of [\u001B[39m\u001B[38;5;132;01m{\u001B[39;00mkey\u001B[38;5;132;01m}\u001B[39;00m\u001B[38;5;124m] are in the [\u001B[39m\u001B[38;5;132;01m{\u001B[39;00maxis_name\u001B[38;5;132;01m}\u001B[39;00m\u001B[38;5;124m]\u001B[39m\u001B[38;5;124m\"\u001B[39m)\n\u001B[1;32m   6178\u001B[0m not_found \u001B[38;5;241m=\u001B[39m \u001B[38;5;28mlist\u001B[39m(ensure_index(key)[missing_mask\u001B[38;5;241m.\u001B[39mnonzero()[\u001B[38;5;241m0\u001B[39m]]\u001B[38;5;241m.\u001B[39munique())\n\u001B[0;32m-> 6179\u001B[0m \u001B[38;5;28;01mraise\u001B[39;00m \u001B[38;5;167;01mKeyError\u001B[39;00m(\u001B[38;5;124mf\u001B[39m\u001B[38;5;124m\"\u001B[39m\u001B[38;5;132;01m{\u001B[39;00mnot_found\u001B[38;5;132;01m}\u001B[39;00m\u001B[38;5;124m not in index\u001B[39m\u001B[38;5;124m\"\u001B[39m)\n",
      "\u001B[0;31mKeyError\u001B[0m: '[2009, 2010, 2011, 2012, 2013, 2014, 2015, 2016, 2017, 2018, 2019, 2020] not in index'"
     ]
    }
   ],
   "source": [
    "all_data = pd.DataFrame()\n",
    "\n",
    "for file in os.listdir(data_path):\n",
    "    open_file = pd.ExcelFile(data_path+file)\n",
    "    #sheets = [name for name in open_file.sheet_names if ' P' in name]\n",
    "    sheets = [name for name in open_file.sheet_names]\n",
    "\n",
    "    for sheet in sheets:\n",
    "\n",
    "        data = pd.read_excel(data_path+file, sheet_name=sheet, skiprows=6)[:11][['Unnamed: 0']+list(range(2009, 2021))].rename(columns={'Unnamed: 0': 'Region'}).set_index(['Region'])\n",
    "\n",
    "        # Remove total string\n",
    "        data.index = data.index.str.replace('Total ', '')\n",
    "\n",
    "        # Calculate Europe\n",
    "        data.loc['Europe'] = data.loc[['West Europe', 'Central Europe']].sum()\n",
    "\n",
    "        # Rename columns\n",
    "        data.drop(['West Europe', 'EU 28', 'Central Europe'], inplace=True)\n",
    "        data.rename(index={'East Europe & Central Asia': 'Former USSR', 'E. Europe & C. Asia': 'Former USSR', 'West Asia': 'Middle East', 'East Asia': 'North East Asia'}, inplace=True)\n",
    "        data['PRODUCT'] = sheet.split(' P')[0]\n",
    "\n",
    "        all_data = pd.concat((all_data, data.reset_index()))\n"
   ],
   "metadata": {
    "collapsed": false,
    "pycharm": {
     "name": "#%%\n"
    },
    "ExecuteTime": {
     "end_time": "2024-03-18T13:49:11.065234Z",
     "start_time": "2024-03-18T13:49:10.252417Z"
    }
   }
  },
  {
   "cell_type": "code",
   "outputs": [],
   "source": [
    "all_data = pd.DataFrame()\n",
    "\n",
    "for file in os.listdir(data_path):\n",
    "    open_file = pd.ExcelFile(data_path+file)\n",
    "    \n",
    "    data = pd.read_excel(data_path+file, sheet_name='product', skiprows=6)[['Country']+list(range(2011, 2023))].dropna(subset=['Country']).set_index('Country')\n",
    "    data['PRODUCT'] = file.split('_')[1]\n",
    "    all_data = pd.concat((all_data, data.reset_index()))\n",
    "    \n",
    "name_conversions = {\n",
    "    'ammonia': 'AMMONIA',\n",
    "    'an': 'AMMONIUM NITRATE',\n",
    "    'as': 'AMMONIUM SULPHATE',\n",
    "    'can': 'CALCIUM AMMONIUM NITRATE',\n",
    "    'urea': 'UREA'\n",
    "}\n",
    "\n",
    "all_data['PRODUCT'] = all_data['PRODUCT'].map(name_conversions)"
   ],
   "metadata": {
    "collapsed": false,
    "ExecuteTime": {
     "end_time": "2024-03-18T13:59:53.729971Z",
     "start_time": "2024-03-18T13:59:53.415333Z"
    }
   },
   "execution_count": 21
  },
  {
   "cell_type": "code",
   "execution_count": 30,
   "outputs": [],
   "source": [
    "fao = pd.read_csv('/Users/lukecullen/PycharmProjects/petrochemical-data/data/extra_inputs/FAOSTAT_data_en_4-28-2023.csv')[['Year','Element', 'Value']]\n",
    "fao_filt = fao[fao['Element']=='Agricultural Use in nutrients'].set_index('Year')\n",
    "ifa = all_data.groupby('PRODUCT').sum().sum()\n",
    "\n",
    "fao_forecast = (fao_filt.loc[2020:]['Value']*(ifa[2020]/(fao_filt['Value'][2020]/1E6)))/1E6\n",
    "fao_backcast = (fao_filt.loc[:2011]['Value']*(ifa[2011]/(fao_filt['Value'][2011]/1E6)))/1E6\n",
    "year_addition = ((fao_forecast[2050]-fao_forecast[2020])/30)/fao_forecast[2020]"
   ],
   "metadata": {
    "collapsed": false,
    "pycharm": {
     "name": "#%%\n"
    },
    "ExecuteTime": {
     "end_time": "2024-03-18T14:09:36.365342Z",
     "start_time": "2024-03-18T14:09:36.353865Z"
    }
   }
  },
  {
   "cell_type": "code",
   "execution_count": 35,
   "outputs": [
    {
     "name": "stderr",
     "output_type": "stream",
     "text": [
      "/var/folders/xm/c2mlyq6s23nb_g6_v4fylb7h0000gn/T/ipykernel_4547/3123866840.py:3: SettingWithCopyWarning: \n",
      "A value is trying to be set on a copy of a slice from a DataFrame.\n",
      "Try using .loc[row_indexer,col_indexer] = value instead\n",
      "\n",
      "See the caveats in the documentation: https://pandas.pydata.org/pandas-docs/stable/user_guide/indexing.html#returning-a-view-versus-a-copy\n",
      "  data_backcast[y] = data_backcast[2011]*(fao_backcast[y]/fao_backcast[2011])\n",
      "/var/folders/xm/c2mlyq6s23nb_g6_v4fylb7h0000gn/T/ipykernel_4547/3123866840.py:3: SettingWithCopyWarning: \n",
      "A value is trying to be set on a copy of a slice from a DataFrame.\n",
      "Try using .loc[row_indexer,col_indexer] = value instead\n",
      "\n",
      "See the caveats in the documentation: https://pandas.pydata.org/pandas-docs/stable/user_guide/indexing.html#returning-a-view-versus-a-copy\n",
      "  data_backcast[y] = data_backcast[2011]*(fao_backcast[y]/fao_backcast[2011])\n",
      "/var/folders/xm/c2mlyq6s23nb_g6_v4fylb7h0000gn/T/ipykernel_4547/3123866840.py:3: SettingWithCopyWarning: \n",
      "A value is trying to be set on a copy of a slice from a DataFrame.\n",
      "Try using .loc[row_indexer,col_indexer] = value instead\n",
      "\n",
      "See the caveats in the documentation: https://pandas.pydata.org/pandas-docs/stable/user_guide/indexing.html#returning-a-view-versus-a-copy\n",
      "  data_backcast[y] = data_backcast[2011]*(fao_backcast[y]/fao_backcast[2011])\n",
      "/var/folders/xm/c2mlyq6s23nb_g6_v4fylb7h0000gn/T/ipykernel_4547/3123866840.py:3: SettingWithCopyWarning: \n",
      "A value is trying to be set on a copy of a slice from a DataFrame.\n",
      "Try using .loc[row_indexer,col_indexer] = value instead\n",
      "\n",
      "See the caveats in the documentation: https://pandas.pydata.org/pandas-docs/stable/user_guide/indexing.html#returning-a-view-versus-a-copy\n",
      "  data_backcast[y] = data_backcast[2011]*(fao_backcast[y]/fao_backcast[2011])\n",
      "/var/folders/xm/c2mlyq6s23nb_g6_v4fylb7h0000gn/T/ipykernel_4547/3123866840.py:3: SettingWithCopyWarning: \n",
      "A value is trying to be set on a copy of a slice from a DataFrame.\n",
      "Try using .loc[row_indexer,col_indexer] = value instead\n",
      "\n",
      "See the caveats in the documentation: https://pandas.pydata.org/pandas-docs/stable/user_guide/indexing.html#returning-a-view-versus-a-copy\n",
      "  data_backcast[y] = data_backcast[2011]*(fao_backcast[y]/fao_backcast[2011])\n",
      "/var/folders/xm/c2mlyq6s23nb_g6_v4fylb7h0000gn/T/ipykernel_4547/3123866840.py:3: SettingWithCopyWarning: \n",
      "A value is trying to be set on a copy of a slice from a DataFrame.\n",
      "Try using .loc[row_indexer,col_indexer] = value instead\n",
      "\n",
      "See the caveats in the documentation: https://pandas.pydata.org/pandas-docs/stable/user_guide/indexing.html#returning-a-view-versus-a-copy\n",
      "  data_backcast[y] = data_backcast[2011]*(fao_backcast[y]/fao_backcast[2011])\n",
      "/var/folders/xm/c2mlyq6s23nb_g6_v4fylb7h0000gn/T/ipykernel_4547/3123866840.py:3: SettingWithCopyWarning: \n",
      "A value is trying to be set on a copy of a slice from a DataFrame.\n",
      "Try using .loc[row_indexer,col_indexer] = value instead\n",
      "\n",
      "See the caveats in the documentation: https://pandas.pydata.org/pandas-docs/stable/user_guide/indexing.html#returning-a-view-versus-a-copy\n",
      "  data_backcast[y] = data_backcast[2011]*(fao_backcast[y]/fao_backcast[2011])\n",
      "/var/folders/xm/c2mlyq6s23nb_g6_v4fylb7h0000gn/T/ipykernel_4547/3123866840.py:3: SettingWithCopyWarning: \n",
      "A value is trying to be set on a copy of a slice from a DataFrame.\n",
      "Try using .loc[row_indexer,col_indexer] = value instead\n",
      "\n",
      "See the caveats in the documentation: https://pandas.pydata.org/pandas-docs/stable/user_guide/indexing.html#returning-a-view-versus-a-copy\n",
      "  data_backcast[y] = data_backcast[2011]*(fao_backcast[y]/fao_backcast[2011])\n",
      "/var/folders/xm/c2mlyq6s23nb_g6_v4fylb7h0000gn/T/ipykernel_4547/3123866840.py:3: SettingWithCopyWarning: \n",
      "A value is trying to be set on a copy of a slice from a DataFrame.\n",
      "Try using .loc[row_indexer,col_indexer] = value instead\n",
      "\n",
      "See the caveats in the documentation: https://pandas.pydata.org/pandas-docs/stable/user_guide/indexing.html#returning-a-view-versus-a-copy\n",
      "  data_backcast[y] = data_backcast[2011]*(fao_backcast[y]/fao_backcast[2011])\n",
      "/var/folders/xm/c2mlyq6s23nb_g6_v4fylb7h0000gn/T/ipykernel_4547/3123866840.py:3: SettingWithCopyWarning: \n",
      "A value is trying to be set on a copy of a slice from a DataFrame.\n",
      "Try using .loc[row_indexer,col_indexer] = value instead\n",
      "\n",
      "See the caveats in the documentation: https://pandas.pydata.org/pandas-docs/stable/user_guide/indexing.html#returning-a-view-versus-a-copy\n",
      "  data_backcast[y] = data_backcast[2011]*(fao_backcast[y]/fao_backcast[2011])\n",
      "/var/folders/xm/c2mlyq6s23nb_g6_v4fylb7h0000gn/T/ipykernel_4547/3123866840.py:7: SettingWithCopyWarning: \n",
      "A value is trying to be set on a copy of a slice from a DataFrame.\n",
      "Try using .loc[row_indexer,col_indexer] = value instead\n",
      "\n",
      "See the caveats in the documentation: https://pandas.pydata.org/pandas-docs/stable/user_guide/indexing.html#returning-a-view-versus-a-copy\n",
      "  data_forecast[y] = data_forecast[2022]+(year_addition*(i+1)*data_forecast[2022])\n",
      "/var/folders/xm/c2mlyq6s23nb_g6_v4fylb7h0000gn/T/ipykernel_4547/3123866840.py:7: SettingWithCopyWarning: \n",
      "A value is trying to be set on a copy of a slice from a DataFrame.\n",
      "Try using .loc[row_indexer,col_indexer] = value instead\n",
      "\n",
      "See the caveats in the documentation: https://pandas.pydata.org/pandas-docs/stable/user_guide/indexing.html#returning-a-view-versus-a-copy\n",
      "  data_forecast[y] = data_forecast[2022]+(year_addition*(i+1)*data_forecast[2022])\n",
      "/var/folders/xm/c2mlyq6s23nb_g6_v4fylb7h0000gn/T/ipykernel_4547/3123866840.py:7: SettingWithCopyWarning: \n",
      "A value is trying to be set on a copy of a slice from a DataFrame.\n",
      "Try using .loc[row_indexer,col_indexer] = value instead\n",
      "\n",
      "See the caveats in the documentation: https://pandas.pydata.org/pandas-docs/stable/user_guide/indexing.html#returning-a-view-versus-a-copy\n",
      "  data_forecast[y] = data_forecast[2022]+(year_addition*(i+1)*data_forecast[2022])\n",
      "/var/folders/xm/c2mlyq6s23nb_g6_v4fylb7h0000gn/T/ipykernel_4547/3123866840.py:7: SettingWithCopyWarning: \n",
      "A value is trying to be set on a copy of a slice from a DataFrame.\n",
      "Try using .loc[row_indexer,col_indexer] = value instead\n",
      "\n",
      "See the caveats in the documentation: https://pandas.pydata.org/pandas-docs/stable/user_guide/indexing.html#returning-a-view-versus-a-copy\n",
      "  data_forecast[y] = data_forecast[2022]+(year_addition*(i+1)*data_forecast[2022])\n",
      "/var/folders/xm/c2mlyq6s23nb_g6_v4fylb7h0000gn/T/ipykernel_4547/3123866840.py:7: SettingWithCopyWarning: \n",
      "A value is trying to be set on a copy of a slice from a DataFrame.\n",
      "Try using .loc[row_indexer,col_indexer] = value instead\n",
      "\n",
      "See the caveats in the documentation: https://pandas.pydata.org/pandas-docs/stable/user_guide/indexing.html#returning-a-view-versus-a-copy\n",
      "  data_forecast[y] = data_forecast[2022]+(year_addition*(i+1)*data_forecast[2022])\n",
      "/var/folders/xm/c2mlyq6s23nb_g6_v4fylb7h0000gn/T/ipykernel_4547/3123866840.py:7: SettingWithCopyWarning: \n",
      "A value is trying to be set on a copy of a slice from a DataFrame.\n",
      "Try using .loc[row_indexer,col_indexer] = value instead\n",
      "\n",
      "See the caveats in the documentation: https://pandas.pydata.org/pandas-docs/stable/user_guide/indexing.html#returning-a-view-versus-a-copy\n",
      "  data_forecast[y] = data_forecast[2022]+(year_addition*(i+1)*data_forecast[2022])\n",
      "/var/folders/xm/c2mlyq6s23nb_g6_v4fylb7h0000gn/T/ipykernel_4547/3123866840.py:7: SettingWithCopyWarning: \n",
      "A value is trying to be set on a copy of a slice from a DataFrame.\n",
      "Try using .loc[row_indexer,col_indexer] = value instead\n",
      "\n",
      "See the caveats in the documentation: https://pandas.pydata.org/pandas-docs/stable/user_guide/indexing.html#returning-a-view-versus-a-copy\n",
      "  data_forecast[y] = data_forecast[2022]+(year_addition*(i+1)*data_forecast[2022])\n",
      "/var/folders/xm/c2mlyq6s23nb_g6_v4fylb7h0000gn/T/ipykernel_4547/3123866840.py:7: SettingWithCopyWarning: \n",
      "A value is trying to be set on a copy of a slice from a DataFrame.\n",
      "Try using .loc[row_indexer,col_indexer] = value instead\n",
      "\n",
      "See the caveats in the documentation: https://pandas.pydata.org/pandas-docs/stable/user_guide/indexing.html#returning-a-view-versus-a-copy\n",
      "  data_forecast[y] = data_forecast[2022]+(year_addition*(i+1)*data_forecast[2022])\n",
      "/var/folders/xm/c2mlyq6s23nb_g6_v4fylb7h0000gn/T/ipykernel_4547/3123866840.py:7: SettingWithCopyWarning: \n",
      "A value is trying to be set on a copy of a slice from a DataFrame.\n",
      "Try using .loc[row_indexer,col_indexer] = value instead\n",
      "\n",
      "See the caveats in the documentation: https://pandas.pydata.org/pandas-docs/stable/user_guide/indexing.html#returning-a-view-versus-a-copy\n",
      "  data_forecast[y] = data_forecast[2022]+(year_addition*(i+1)*data_forecast[2022])\n",
      "/var/folders/xm/c2mlyq6s23nb_g6_v4fylb7h0000gn/T/ipykernel_4547/3123866840.py:7: SettingWithCopyWarning: \n",
      "A value is trying to be set on a copy of a slice from a DataFrame.\n",
      "Try using .loc[row_indexer,col_indexer] = value instead\n",
      "\n",
      "See the caveats in the documentation: https://pandas.pydata.org/pandas-docs/stable/user_guide/indexing.html#returning-a-view-versus-a-copy\n",
      "  data_forecast[y] = data_forecast[2022]+(year_addition*(i+1)*data_forecast[2022])\n"
     ]
    }
   ],
   "source": [
    "data_backcast = all_data[['Country', 2011, 'PRODUCT']]\n",
    "for y in range(1978, 2011):\n",
    "    data_backcast[y] = data_backcast[2011]*(fao_backcast[y]/fao_backcast[2011])\n",
    "\n",
    "data_forecast = all_data[['Country', 2022, 'PRODUCT']]\n",
    "for i, y in enumerate(range(2023, 2051)):\n",
    "    data_forecast[y] = data_forecast[2022]+(year_addition*(i+1)*data_forecast[2022])"
   ],
   "metadata": {
    "collapsed": false,
    "pycharm": {
     "name": "#%%\n"
    },
    "ExecuteTime": {
     "end_time": "2024-03-18T14:10:18.308745Z",
     "start_time": "2024-03-18T14:10:18.287617Z"
    }
   }
  },
  {
   "cell_type": "code",
   "execution_count": 44,
   "outputs": [
    {
     "data": {
      "text/plain": "<Figure size 1000x800 with 1 Axes>",
      "image/png": "[encoded data removed]"
     },
     "metadata": {},
     "output_type": "display_data"
    }
   ],
   "source": [
    "fig, ax = plt.subplots(1,1,figsize=[10,8], facecolor='white')\n",
    "ax.plot(ifa.index[1:], ifa.values[1:], label='IFA')\n",
    "ax.plot(fao_filt.index, (fao_filt['Value'])/1E6, label='FAO orig')\n",
    "ax.plot(data_forecast.sum().index[3:], data_forecast.sum().values[3:], label='FAO forecast')\n",
    "ax.plot(data_backcast.sum().index[3:],data_backcast.sum().values[3:], label='FAO backcast')\n",
    "ax.legend()\n",
    "ax.grid()"
   ],
   "metadata": {
    "collapsed": false,
    "pycharm": {
     "name": "#%%\n"
    },
    "ExecuteTime": {
     "end_time": "2024-03-18T14:11:49.899017Z",
     "start_time": "2024-03-18T14:11:49.804052Z"
    }
   }
  },
  {
   "cell_type": "code",
   "execution_count": 47,
   "outputs": [],
   "source": [
    "combined_data = data_backcast.drop(columns=[2011]).merge(all_data, on=['Country', 'PRODUCT']).merge(data_forecast.drop(columns=[2022]), on=['Country', 'PRODUCT'])"
   ],
   "metadata": {
    "collapsed": false,
    "pycharm": {
     "name": "#%%\n"
    },
    "ExecuteTime": {
     "end_time": "2024-03-18T14:12:41.410314Z",
     "start_time": "2024-03-18T14:12:41.403415Z"
    }
   }
  },
  {
   "cell_type": "code",
   "execution_count": 48,
   "outputs": [],
   "source": [
    "## Add uncertainties\n",
    "production_uncertainty = 0.1\n",
    "\n",
    "years = list(range(1978, 2051))\n",
    "\n",
    "for col in years:\n",
    "    if col<2009 or col>2020:\n",
    "        combined_data[str(col)+'_sigma'] = combined_data[col]*production_uncertainty*2\n",
    "    else: combined_data[str(col)+'_sigma'] = combined_data[col]*production_uncertainty\n",
    "\n",
    "combined_data.to_csv(output_data_path+'IFA_country_production.csv', index=False)"
   ],
   "metadata": {
    "collapsed": false,
    "pycharm": {
     "name": "#%%\n"
    },
    "ExecuteTime": {
     "end_time": "2024-03-18T14:12:54.977312Z",
     "start_time": "2024-03-18T14:12:54.940844Z"
    }
   }
  }
 ],
 "metadata": {
  "kernelspec": {
   "display_name": "Python 3",
   "language": "python",
   "name": "python3"
  },
  "language_info": {
   "codemirror_mode": {
    "name": "ipython",
    "version": 2
   },
   "file_extension": ".py",
   "mimetype": "text/x-python",
   "name": "python",
   "nbconvert_exporter": "python",
   "pygments_lexer": "ipython2",
   "version": "2.7.6"
  }
 },
 "nbformat": 4,
 "nbformat_minor": 0
}
