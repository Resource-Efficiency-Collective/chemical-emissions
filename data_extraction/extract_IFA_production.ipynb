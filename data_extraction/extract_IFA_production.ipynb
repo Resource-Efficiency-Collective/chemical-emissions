{
 "cells": [
  {
   "cell_type": "code",
   "metadata": {
    "collapsed": true
   },
   "source": [
    "import os\n",
    "import pandas as pd\n",
    "import matplotlib.pyplot as plt"
   ],
   "outputs": [],
   "execution_count": null
  },
  {
   "cell_type": "code",
   "source": [
    "## INSERT DATA PATHS HERE\n",
    "data_path = ''\n",
    "fao_data_path = ''\n",
    "output_data_path = '/data/extracted/'"
   ],
   "metadata": {
    "collapsed": false,
    "pycharm": {
     "name": "#%%\n"
    }
   },
   "outputs": [],
   "execution_count": null
  },
  {
   "cell_type": "code",
   "source": [
    "all_data = pd.DataFrame()\n",
    "\n",
    "for file in os.listdir(data_path):\n",
    "    open_file = pd.ExcelFile(data_path+file)\n",
    "    #sheets = [name for name in open_file.sheet_names if ' P' in name]\n",
    "    sheets = [name for name in open_file.sheet_names]\n",
    "\n",
    "    for sheet in sheets:\n",
    "\n",
    "        data = pd.read_excel(data_path+file, sheet_name=sheet, skiprows=6)[:11][['Unnamed: 0']+list(range(2009, 2021))].rename(columns={'Unnamed: 0': 'Region'}).set_index(['Region'])\n",
    "\n",
    "        # Remove total string\n",
    "        data.index = data.index.str.replace('Total ', '')\n",
    "\n",
    "        # Calculate Europe\n",
    "        data.loc['Europe'] = data.loc[['West Europe', 'Central Europe']].sum()\n",
    "\n",
    "        # Rename columns\n",
    "        data.drop(['West Europe', 'EU 28', 'Central Europe'], inplace=True)\n",
    "        data.rename(index={'East Europe & Central Asia': 'Former USSR', 'E. Europe & C. Asia': 'Former USSR', 'West Asia': 'Middle East', 'East Asia': 'North East Asia'}, inplace=True)\n",
    "        data['PRODUCT'] = sheet.split(' P')[0]\n",
    "\n",
    "        all_data = pd.concat((all_data, data.reset_index()))\n"
   ],
   "metadata": {
    "collapsed": false,
    "pycharm": {
     "name": "#%%\n"
    }
   },
   "outputs": [],
   "execution_count": null
  },
  {
   "cell_type": "code",
   "source": [
    "all_data = pd.DataFrame()\n",
    "\n",
    "for file in os.listdir(data_path):\n",
    "    open_file = pd.ExcelFile(data_path+file)\n",
    "    \n",
    "    data = pd.read_excel(data_path+file, sheet_name='product', skiprows=6)[['Country']+list(range(2011, 2023))].dropna(subset=['Country']).set_index('Country')\n",
    "    data['PRODUCT'] = file.split('_')[1]\n",
    "    all_data = pd.concat((all_data, data.reset_index()))\n",
    "    \n",
    "name_conversions = {\n",
    "    'ammonia': 'AMMONIA',\n",
    "    'an': 'AMMONIUM NITRATE',\n",
    "    'as': 'AMMONIUM SULPHATE',\n",
    "    'can': 'CALCIUM AMMONIUM NITRATE',\n",
    "    'urea': 'UREA'\n",
    "}\n",
    "\n",
    "all_data['PRODUCT'] = all_data['PRODUCT'].map(name_conversions)"
   ],
   "metadata": {
    "collapsed": false
   },
   "outputs": [],
   "execution_count": null
  },
  {
   "cell_type": "code",
   "source": [
    "fao = pd.read_csv(fao_data_path)[['Year','Element', 'Value']]\n",
    "fao_filt = fao[fao['Element']=='Agricultural Use in nutrients'].set_index('Year')\n",
    "ifa = all_data.groupby('PRODUCT').sum().sum()\n",
    "\n",
    "fao_forecast = (fao_filt.loc[2020:]['Value']*(ifa[2020]/(fao_filt['Value'][2020]/1E6)))/1E6\n",
    "fao_backcast = (fao_filt.loc[:2011]['Value']*(ifa[2011]/(fao_filt['Value'][2011]/1E6)))/1E6\n",
    "year_addition = ((fao_forecast[2050]-fao_forecast[2020])/30)/fao_forecast[2020]"
   ],
   "metadata": {
    "collapsed": false,
    "pycharm": {
     "name": "#%%\n"
    }
   },
   "outputs": [],
   "execution_count": null
  },
  {
   "cell_type": "code",
   "source": [
    "data_backcast = all_data[['Country', 2011, 'PRODUCT']]\n",
    "for y in range(1978, 2011):\n",
    "    data_backcast[y] = data_backcast[2011]*(fao_backcast[y]/fao_backcast[2011])\n",
    "\n",
    "data_forecast = all_data[['Country', 2022, 'PRODUCT']]\n",
    "for i, y in enumerate(range(2023, 2051)):\n",
    "    data_forecast[y] = data_forecast[2022]+(year_addition*(i+1)*data_forecast[2022])"
   ],
   "metadata": {
    "collapsed": false,
    "pycharm": {
     "name": "#%%\n"
    }
   },
   "outputs": [],
   "execution_count": null
  },
  {
   "cell_type": "code",
   "source": [
    "fig, ax = plt.subplots(1,1,figsize=[10,8], facecolor='white')\n",
    "ax.plot(ifa.index[1:], ifa.values[1:], label='IFA')\n",
    "ax.plot(fao_filt.index, (fao_filt['Value'])/1E6, label='FAO orig')\n",
    "ax.plot(data_forecast.sum().index[3:], data_forecast.sum().values[3:], label='FAO forecast')\n",
    "ax.plot(data_backcast.sum().index[3:],data_backcast.sum().values[3:], label='FAO backcast')\n",
    "ax.legend()\n",
    "ax.grid()"
   ],
   "metadata": {
    "collapsed": false,
    "pycharm": {
     "name": "#%%\n"
    }
   },
   "outputs": [],
   "execution_count": null
  },
  {
   "cell_type": "code",
   "source": [
    "combined_data = data_backcast.drop(columns=[2011]).merge(all_data, on=['Country', 'PRODUCT']).merge(data_forecast.drop(columns=[2022]), on=['Country', 'PRODUCT'])"
   ],
   "metadata": {
    "collapsed": false,
    "pycharm": {
     "name": "#%%\n"
    }
   },
   "outputs": [],
   "execution_count": null
  },
  {
   "cell_type": "code",
   "source": [
    "## Add uncertainties\n",
    "production_uncertainty = 0.1\n",
    "\n",
    "years = list(range(1978, 2051))\n",
    "\n",
    "for col in years:\n",
    "    if col<2009 or col>2020:\n",
    "        combined_data[str(col)+'_sigma'] = combined_data[col]*production_uncertainty*2\n",
    "    else: combined_data[str(col)+'_sigma'] = combined_data[col]*production_uncertainty\n",
    "\n",
    "combined_data.to_csv(output_data_path+'IFA_country_production.csv', index=False)"
   ],
   "metadata": {
    "collapsed": false,
    "pycharm": {
     "name": "#%%\n"
    }
   },
   "outputs": [],
   "execution_count": null
  }
 ],
 "metadata": {
  "kernelspec": {
   "display_name": "Python 3",
   "language": "python",
   "name": "python3"
  },
  "language_info": {
   "codemirror_mode": {
    "name": "ipython",
    "version": 2
   },
   "file_extension": ".py",
   "mimetype": "text/x-python",
   "name": "python",
   "nbconvert_exporter": "python",
   "pygments_lexer": "ipython2",
   "version": "2.7.6"
  }
 },
 "nbformat": 4,
 "nbformat_minor": 0
}
