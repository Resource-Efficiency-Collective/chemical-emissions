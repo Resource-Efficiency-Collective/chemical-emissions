{
 "cells": [
  {
   "cell_type": "markdown",
   "metadata": {
    "collapsed": true,
    "pycharm": {
     "name": "#%% md\n"
    }
   },
   "source": [
    "## Obtain process impacts by combining process outputs with impact factors\n",
    "\n",
    "Inputs: - Process Excel file downloaded from OpenLCA\n",
    "        - Impact factor conversion xml files downloaded from OpenLCA\n",
    "\n",
    "Output: - Csv file of impact for each gas for all processes in input file"
   ]
  },
  {
   "cell_type": "code",
   "source": [
    "# Import packages\n",
    "import os\n",
    "import numpy as np\n",
    "import pandas as pd\n",
    "import xml.etree.ElementTree as ET\n",
    "pd.options.mode.chained_assignment = None"
   ],
   "metadata": {
    "collapsed": false,
    "pycharm": {
     "name": "#%%\n"
    },
    "ExecuteTime": {
     "end_time": "2025-04-27T10:15:10.760548Z",
     "start_time": "2025-04-27T10:15:02.494653Z"
    }
   },
   "outputs": [],
   "execution_count": 3
  },
  {
   "cell_type": "code",
   "execution_count": 2,
   "outputs": [],
   "source": [
    "# Variable definition - INSERT YOUR PATHS TO THE DATA HERE\n",
    "data_path = \"\"\n",
    "lca_path = data_path+'APOS Cumulative LCIA v3.10_raw.xlsx'\n",
    "lci_path = data_path+'APOS Cumulative LCI v3.10.csv'\n",
    "\n",
    "output_path = '/data/extracted/'\n",
    "# impacts_path = output_path+'/EI_3_8_IPCC2021_CO2e.csv'"
   ],
   "metadata": {
    "collapsed": false,
    "pycharm": {
     "name": "#%%\n"
    },
    "ExecuteTime": {
     "end_time": "2024-03-25T19:07:21.273434Z",
     "start_time": "2024-03-25T19:07:21.271705Z"
    }
   }
  },
  {
   "cell_type": "code",
   "outputs": [],
   "source": [
    "lca_raw = pd.read_excel(lca_path, sheet_name='LCIA')\n",
    "lca = lca_raw[['Unnamed: 1', 'Unnamed: 2', 'Unnamed: 3', 'Unnamed: 4', 'IPCC 2021 no LT.2', 'IPCC 2021 no LT.3', 'IPCC 2021 no LT.4']] # Take only relevant columns\n",
    "lca = lca[3:] # Skip header rows\n",
    "lca[lca.columns[4:]] = lca[lca.columns[4:]].astype(float)\n",
    "lca.columns = ['generalComment', 'location', 'name', 'unit', 'CO2e_100a', 'CO2e_20a', 'CO2e_500a'] # Rename columns"
   ],
   "metadata": {
    "collapsed": false,
    "ExecuteTime": {
     "end_time": "2024-03-25T19:09:13.189374Z",
     "start_time": "2024-03-25T19:07:31.345592Z"
    }
   },
   "execution_count": 3
  },
  {
   "cell_type": "code",
   "outputs": [],
   "source": [
    "# Get lci data and get columns\n",
    "lci_raw = pd.read_csv(lci_path, low_memory=False)\n",
    "gases = ['Carbon dioxide', 'Carbon monoxide', 'Chloroform', 'Dinitrogen monoxide', 'Ethane', 'Methane', 'Nitric oxide', 'Nitrogen fluoride', 'Perfluoropentane', 'Sulfur hexafluoride']\n",
    "columns = [['Unnamed: 1', 'Unnamed: 2', 'Unnamed: 3', 'Unnamed: 4']] + [[col for col in lci_raw.columns if gas in col] for gas in gases]\n",
    "lci = lci_raw[[item for sublist in columns for item in sublist]]\n",
    "lci.columns = ['generalComment', 'location', 'name', 'unit'] + lci.columns[4:].tolist()\n",
    "lci = lci[3:]\n",
    "lci[lci.columns[4:]] = lci[lci.columns[4:]].astype(float)\n",
    "\n",
    "for gas in gases:\n",
    "    lci[gas] = lci[[col for col in lci.columns if gas in col]].sum(axis=1)\n",
    "\n",
    "lci = lci[['generalComment', 'location', 'name', 'unit'] + gases]"
   ],
   "metadata": {
    "collapsed": false,
    "ExecuteTime": {
     "end_time": "2024-03-25T19:09:34.028639Z",
     "start_time": "2024-03-25T19:09:13.184774Z"
    }
   },
   "execution_count": 4
  },
  {
   "cell_type": "code",
   "outputs": [],
   "source": [
    "merged = lca.merge(lci, on=['generalComment', 'location', 'name', 'unit'], how='inner')"
   ],
   "metadata": {
    "collapsed": false,
    "ExecuteTime": {
     "end_time": "2024-03-25T19:13:08.323659Z",
     "start_time": "2024-03-25T19:13:08.311126Z"
    }
   },
   "execution_count": 5
  },
  {
   "cell_type": "code",
   "outputs": [
    {
     "data": {
      "text/plain": "             generalComment location       name unit  CO2e_100a   CO2e_20a  \\\n13163  market for propylene      RoW  propylene   kg   2.968906   3.989367   \n13164  market for propylene      RER  propylene   kg   1.947748   2.803915   \n13165  market for propylene       ZA  propylene   kg  12.264800  13.637741   \n\n       CO2e_500a  Carbon dioxide  Carbon monoxide    Chloroform  \\\n13163   2.581490        2.449159         0.002830  1.154611e-08   \n13164   1.623447        1.516054         0.001805  1.166096e-08   \n13165  11.672402       11.465777         0.006350  4.017742e-08   \n\n       Dinitrogen monoxide    Ethane   Methane  Nitric oxide  \\\n13163             0.000034  0.000085  0.019339  5.953090e-09   \n13164             0.000021  0.000069  0.016255  4.220690e-09   \n13165             0.000548  0.000072  0.026051  1.398230e-07   \n\n       Nitrogen fluoride  Perfluoropentane  Sulfur hexafluoride  \n13163       1.224530e-13               0.0         1.437745e-07  \n13164       1.032160e-13               0.0         5.657968e-08  \n13165       1.073440e-13               0.0         2.427626e-07  ",
      "text/html": "<div>\n<style scoped>\n    .dataframe tbody tr th:only-of-type {\n        vertical-align: middle;\n    }\n\n    .dataframe tbody tr th {\n        vertical-align: top;\n    }\n\n    .dataframe thead th {\n        text-align: right;\n    }\n</style>\n<table border=\"1\" class=\"dataframe\">\n  <thead>\n    <tr style=\"text-align: right;\">\n      <th></th>\n      <th>generalComment</th>\n      <th>location</th>\n      <th>name</th>\n      <th>unit</th>\n      <th>CO2e_100a</th>\n      <th>CO2e_20a</th>\n      <th>CO2e_500a</th>\n      <th>Carbon dioxide</th>\n      <th>Carbon monoxide</th>\n      <th>Chloroform</th>\n      <th>Dinitrogen monoxide</th>\n      <th>Ethane</th>\n      <th>Methane</th>\n      <th>Nitric oxide</th>\n      <th>Nitrogen fluoride</th>\n      <th>Perfluoropentane</th>\n      <th>Sulfur hexafluoride</th>\n    </tr>\n  </thead>\n  <tbody>\n    <tr>\n      <th>13163</th>\n      <td>market for propylene</td>\n      <td>RoW</td>\n      <td>propylene</td>\n      <td>kg</td>\n      <td>2.968906</td>\n      <td>3.989367</td>\n      <td>2.581490</td>\n      <td>2.449159</td>\n      <td>0.002830</td>\n      <td>1.154611e-08</td>\n      <td>0.000034</td>\n      <td>0.000085</td>\n      <td>0.019339</td>\n      <td>5.953090e-09</td>\n      <td>1.224530e-13</td>\n      <td>0.0</td>\n      <td>1.437745e-07</td>\n    </tr>\n    <tr>\n      <th>13164</th>\n      <td>market for propylene</td>\n      <td>RER</td>\n      <td>propylene</td>\n      <td>kg</td>\n      <td>1.947748</td>\n      <td>2.803915</td>\n      <td>1.623447</td>\n      <td>1.516054</td>\n      <td>0.001805</td>\n      <td>1.166096e-08</td>\n      <td>0.000021</td>\n      <td>0.000069</td>\n      <td>0.016255</td>\n      <td>4.220690e-09</td>\n      <td>1.032160e-13</td>\n      <td>0.0</td>\n      <td>5.657968e-08</td>\n    </tr>\n    <tr>\n      <th>13165</th>\n      <td>market for propylene</td>\n      <td>ZA</td>\n      <td>propylene</td>\n      <td>kg</td>\n      <td>12.264800</td>\n      <td>13.637741</td>\n      <td>11.672402</td>\n      <td>11.465777</td>\n      <td>0.006350</td>\n      <td>4.017742e-08</td>\n      <td>0.000548</td>\n      <td>0.000072</td>\n      <td>0.026051</td>\n      <td>1.398230e-07</td>\n      <td>1.073440e-13</td>\n      <td>0.0</td>\n      <td>2.427626e-07</td>\n    </tr>\n  </tbody>\n</table>\n</div>"
     },
     "execution_count": 7,
     "metadata": {},
     "output_type": "execute_result"
    }
   ],
   "source": [
    "merged[merged['generalComment'] == 'market for propylene']"
   ],
   "metadata": {
    "collapsed": false,
    "ExecuteTime": {
     "end_time": "2024-03-25T19:13:37.812715Z",
     "start_time": "2024-03-25T19:13:37.792261Z"
    }
   },
   "execution_count": 7
  },
  {
   "cell_type": "code",
   "outputs": [],
   "source": [
    "merged = lca.merge(lci, on=['generalComment', 'location', 'name', 'unit'], how='inner')\n",
    "\n",
    "# For each [generalComment, location, name, unit] only keep the row with location GLO if it exists, otherwise take average of rows with same [generalComment, name, unit] and set location as AVG\n",
    "def process_group(group):\n",
    "    if 'GLO' in group['location'].values:\n",
    "        # Keep only the row with location 'GLO'\n",
    "        return group[group['location'] == 'GLO']\n",
    "    else:\n",
    "        # Calculate average of numeric columns and set location to 'AVG'\n",
    "        avg_row = group.mean(numeric_only=True)\n",
    "        avg_row['location'] = 'AVG'\n",
    "        # Copy other non-numeric values from the first row\n",
    "        for col in ['generalComment', 'name', 'unit']:\n",
    "            avg_row[col] = group[col].iloc[0]\n",
    "        return pd.DataFrame([avg_row], columns=group.columns)\n",
    "\n",
    "# Group by 'generalComment', 'name', 'unit', and apply the function\n",
    "single_loc = merged.groupby(['generalComment', 'name', 'unit'], as_index=False).apply(process_group).reset_index(drop=True)"
   ],
   "metadata": {
    "collapsed": false,
    "ExecuteTime": {
     "end_time": "2024-03-19T10:46:25.126291Z",
     "start_time": "2024-03-19T10:46:19.024363Z"
    }
   },
   "execution_count": 69
  },
  {
   "cell_type": "code",
   "outputs": [],
   "source": [
    "# Add EcoInvent uncertainty\n",
    "ecoinvent_uncertainty = 0.1\n",
    "\n",
    "for gas in merged.columns[4:]:\n",
    "    single_loc[gas+'_sigma'] = single_loc[gas]*ecoinvent_uncertainty"
   ],
   "metadata": {
    "collapsed": false,
    "ExecuteTime": {
     "end_time": "2024-03-19T15:13:37.940125Z",
     "start_time": "2024-03-19T15:13:37.925832Z"
    }
   },
   "execution_count": 73
  },
  {
   "cell_type": "code",
   "outputs": [],
   "source": [
    "single_loc.to_csv(output_path+'EI_3_10_APOS_EFs.csv', index=False)"
   ],
   "metadata": {
    "collapsed": false,
    "ExecuteTime": {
     "end_time": "2024-03-19T15:17:15.409373Z",
     "start_time": "2024-03-19T15:17:15.203938Z"
    }
   },
   "execution_count": 77
  },
  {
   "cell_type": "code",
   "outputs": [],
   "source": [
    "cut_down = pd.read_csv(output_path+'EI_3_10_APOS_EFs.csv')\n",
    "cut_down = cut_down.rename(columns={'generalComment':'Source', 'name':'Product'})\n",
    "matches = pd.read_csv('/data/processed/ihs_to_ei_matches_formatted.csv', index_col=0)\n",
    "cut_down = cut_down[cut_down['Source'].isin(list(matches['ei'].unique()))]"
   ],
   "metadata": {
    "collapsed": false,
    "ExecuteTime": {
     "end_time": "2024-03-21T11:22:56.877527Z",
     "start_time": "2024-03-21T11:22:56.829647Z"
    }
   },
   "execution_count": 157
  },
  {
   "cell_type": "code",
   "outputs": [],
   "source": [
    "# For each source only keep the row where the string in the product column is in the source column. If none of the rows have the string in the product column in the source column, keep the first row\n",
    "def process_group(group):\n",
    "    if len(group) > 0:\n",
    "        within = [i in j for i, j in zip(group['Product'], group['Source'])]\n",
    "        if sum(within) > 0:\n",
    "            return group[within]\n",
    "        else:\n",
    "            return group.iloc[0:1]\n",
    "    else:\n",
    "        return group\n",
    "\n",
    "output = cut_down.groupby('Source', as_index=False).apply(process_group).reset_index(drop=True)"
   ],
   "metadata": {
    "collapsed": false,
    "ExecuteTime": {
     "end_time": "2024-03-21T11:22:57.195913Z",
     "start_time": "2024-03-21T11:22:57.156876Z"
    }
   },
   "execution_count": 158
  },
  {
   "cell_type": "code",
   "outputs": [],
   "source": [
    "converted = output.copy()\n",
    "# FAO numbers - https://www.fao.org/3/T0269E/t0269e0c.htm\n",
    "unit_convs = {'coke': 28.4, 'natural gas, liquefied': 1/0.735}  \n",
    "converted['conversion'] = converted['Product'].map(unit_convs).fillna(1)\n",
    "\n",
    "for gas in ['CO2e_20a', 'CO2e_100a', 'CO2e_500a'] + gases:\n",
    "    converted[gas] = converted[gas]*converted['conversion']\n",
    "    converted[gas+'_sigma'] = converted[gas+'_sigma']*converted['conversion']\n",
    "\n",
    "converted['unit'] = 'kg'"
   ],
   "metadata": {
    "collapsed": false,
    "ExecuteTime": {
     "end_time": "2024-03-21T11:22:57.542984Z",
     "start_time": "2024-03-21T11:22:57.537454Z"
    }
   },
   "execution_count": 159
  },
  {
   "cell_type": "code",
   "outputs": [],
   "source": [
    "converted.drop_duplicates(subset=['Source']).drop(columns=['conversion', 'unit']).to_csv(output_path+'EI_3_10_APOS_EFs_in_IHS.csv')"
   ],
   "metadata": {
    "collapsed": false,
    "ExecuteTime": {
     "end_time": "2024-03-21T11:22:58.741760Z",
     "start_time": "2024-03-21T11:22:58.729145Z"
    }
   },
   "execution_count": 160
  }
 ],
 "metadata": {
  "kernelspec": {
   "display_name": "Python (myenv)",
   "language": "python",
   "name": "myenv"
  },
  "language_info": {
   "codemirror_mode": {
    "name": "ipython",
    "version": 2
   },
   "file_extension": ".py",
   "mimetype": "text/x-python",
   "name": "python",
   "nbconvert_exporter": "python",
   "pygments_lexer": "ipython2",
   "version": "2.7.6"
  }
 },
 "nbformat": 4,
 "nbformat_minor": 0
}
