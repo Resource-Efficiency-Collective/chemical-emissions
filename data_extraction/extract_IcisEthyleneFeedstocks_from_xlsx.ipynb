{
 "cells": [
  {
   "cell_type": "code",
   "execution_count": 2,
   "metadata": {
    "collapsed": true,
    "pycharm": {
     "name": "#%%\n"
    }
   },
   "outputs": [],
   "source": [
    "\"\"\"This script extracts Ethylene feedstocks from individual excel files for a series fo year to one .csv files for all facilities and years\"\"\"\n",
    "\n",
    "import os\n",
    "import pandas as pd\n",
    "import numpy as np\n",
    "\n",
    "filepath = \"D:/data/ICIS_data/Cracker_feedstock_slates/raw/\"\n",
    "for i, file in enumerate(os.listdir(filepath)):\n",
    "    in_file = pd.ExcelFile(filepath+file)\n",
    "    years_data = pd.DataFrame()\n",
    "    for sheet in in_file.sheet_names[2:]:\n",
    "        data = pd.read_excel(in_file, sheet_name=sheet, skiprows=1, header=[1,2])[3:].dropna(subset=[('COUNTRY/TERRITORY', np.NaN)])\n",
    "        data = data[['Total' not in str(i) for i in data[('COUNTRY/TERRITORY', np.NaN)]]]\n",
    "        years_data = pd.concat((years_data, data), axis=0)\n",
    "    if i>0:\n",
    "        all_data = all_data.merge(years_data, on=list(years_data.columns[:8]), how='outer')\n",
    "    else: all_data = years_data.copy()\n",
    "all_data = all_data.sort_values(list(years_data.columns[:8])).reset_index(drop=True).dropna(axis=1, how='all')\n",
    "\n",
    "all_data.to_csv(filepath+'icisEthyleneFeedstocks_1978-2050.csv')"
   ]
  }
 ],
 "metadata": {
  "kernelspec": {
   "display_name": "Python 3",
   "language": "python",
   "name": "python3"
  },
  "language_info": {
   "codemirror_mode": {
    "name": "ipython",
    "version": 2
   },
   "file_extension": ".py",
   "mimetype": "text/x-python",
   "name": "python",
   "nbconvert_exporter": "python",
   "pygments_lexer": "ipython2",
   "version": "2.7.6"
  }
 },
 "nbformat": 4,
 "nbformat_minor": 0
}