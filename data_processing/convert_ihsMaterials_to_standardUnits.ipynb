{
 "cells": [
  {
   "cell_type": "markdown",
   "source": [
    "# Convert IHS materials data to consistent units and add uncertainties"
   ],
   "metadata": {
    "collapsed": false,
    "pycharm": {
     "name": "#%% md\n"
    }
   }
  },
  {
   "cell_type": "code",
   "execution_count": 2,
   "outputs": [],
   "source": [
    "import numpy as np\n",
    "import pandas as pd\n",
    "\n",
    "pd.options.mode.chained_assignment = None"
   ],
   "metadata": {
    "collapsed": false,
    "pycharm": {
     "name": "#%%\n"
    }
   }
  },
  {
   "cell_type": "code",
   "execution_count": 3,
   "outputs": [],
   "source": [
    "# Data file paths\n",
    "input_path = '../data/'\n",
    "output_path = '../data/processed/'\n",
    "ihs_materials_path = input_path+'extracted/ihsMaterials_Germany.csv'\n",
    "unit_conversion_path = input_path+'extra_inputs/unit_conversions.xlsx'"
   ],
   "metadata": {
    "collapsed": false,
    "pycharm": {
     "name": "#%%\n"
    }
   }
  },
  {
   "cell_type": "code",
   "execution_count": 4,
   "outputs": [
    {
     "data": {
      "text/plain": "     Code Data Version        Source/Object          Type  \\\n0  2M-584      2021 Q3            INITIATOR  Raw Material   \n1  2M-584      2021 Q3      METHYL ACRYLATE  Raw Material   \n2  2M-584      2021 Q3  METHYL METHACRYLATE  Raw Material   \n3  2M-584      2021 Q3        COOLING WATER     Utilities   \n4  2M-584      2021 Q3          ELECTRICITY     Utilities   \n\n                                      Target/Process  Research Year  \\\n0  (METH)ACRYLIC RESIN PELLETS BY A CONTINUOUS BU...         1991.0   \n1  (METH)ACRYLIC RESIN PELLETS BY A CONTINUOUS BU...         1991.0   \n2  (METH)ACRYLIC RESIN PELLETS BY A CONTINUOUS BU...         1991.0   \n3  (METH)ACRYLIC RESIN PELLETS BY A CONTINUOUS BU...         1991.0   \n4  (METH)ACRYLIC RESIN PELLETS BY A CONTINUOUS BU...         1991.0   \n\n  Country/Reg                 Product       Value   Value unit Capacity unit  \\\n0     Germany  POLYMETHYLMETHACRYLATE         NaN          NaN      MM KG/yr   \n1     Germany  POLYMETHYLMETHACRYLATE    0.122000  TONNE/TONNE      MM KG/yr   \n2     Germany  POLYMETHYLMETHACRYLATE    0.898000  TONNE/TONNE      MM KG/yr   \n3     Germany  POLYMETHYLMETHACRYLATE   19.110967     M3/TONNE      MM KG/yr   \n4     Germany  POLYMETHYLMETHACRYLATE  653.339914    KWH/TONNE      MM KG/yr   \n\n    MeasType Provenance  \n0     Recipe    IHS PEP  \n1     Recipe    IHS PEP  \n2     Recipe    IHS PEP  \n3  Utilities    IHS PEP  \n4  Utilities    IHS PEP  ",
      "text/html": "<div>\n<style scoped>\n    .dataframe tbody tr th:only-of-type {\n        vertical-align: middle;\n    }\n\n    .dataframe tbody tr th {\n        vertical-align: top;\n    }\n\n    .dataframe thead th {\n        text-align: right;\n    }\n</style>\n<table border=\"1\" class=\"dataframe\">\n  <thead>\n    <tr style=\"text-align: right;\">\n      <th></th>\n      <th>Code</th>\n      <th>Data Version</th>\n      <th>Source/Object</th>\n      <th>Type</th>\n      <th>Target/Process</th>\n      <th>Research Year</th>\n      <th>Country/Reg</th>\n      <th>Product</th>\n      <th>Value</th>\n      <th>Value unit</th>\n      <th>Capacity unit</th>\n      <th>MeasType</th>\n      <th>Provenance</th>\n    </tr>\n  </thead>\n  <tbody>\n    <tr>\n      <th>0</th>\n      <td>2M-584</td>\n      <td>2021 Q3</td>\n      <td>INITIATOR</td>\n      <td>Raw Material</td>\n      <td>(METH)ACRYLIC RESIN PELLETS BY A CONTINUOUS BU...</td>\n      <td>1991.0</td>\n      <td>Germany</td>\n      <td>POLYMETHYLMETHACRYLATE</td>\n      <td>NaN</td>\n      <td>NaN</td>\n      <td>MM KG/yr</td>\n      <td>Recipe</td>\n      <td>IHS PEP</td>\n    </tr>\n    <tr>\n      <th>1</th>\n      <td>2M-584</td>\n      <td>2021 Q3</td>\n      <td>METHYL ACRYLATE</td>\n      <td>Raw Material</td>\n      <td>(METH)ACRYLIC RESIN PELLETS BY A CONTINUOUS BU...</td>\n      <td>1991.0</td>\n      <td>Germany</td>\n      <td>POLYMETHYLMETHACRYLATE</td>\n      <td>0.122000</td>\n      <td>TONNE/TONNE</td>\n      <td>MM KG/yr</td>\n      <td>Recipe</td>\n      <td>IHS PEP</td>\n    </tr>\n    <tr>\n      <th>2</th>\n      <td>2M-584</td>\n      <td>2021 Q3</td>\n      <td>METHYL METHACRYLATE</td>\n      <td>Raw Material</td>\n      <td>(METH)ACRYLIC RESIN PELLETS BY A CONTINUOUS BU...</td>\n      <td>1991.0</td>\n      <td>Germany</td>\n      <td>POLYMETHYLMETHACRYLATE</td>\n      <td>0.898000</td>\n      <td>TONNE/TONNE</td>\n      <td>MM KG/yr</td>\n      <td>Recipe</td>\n      <td>IHS PEP</td>\n    </tr>\n    <tr>\n      <th>3</th>\n      <td>2M-584</td>\n      <td>2021 Q3</td>\n      <td>COOLING WATER</td>\n      <td>Utilities</td>\n      <td>(METH)ACRYLIC RESIN PELLETS BY A CONTINUOUS BU...</td>\n      <td>1991.0</td>\n      <td>Germany</td>\n      <td>POLYMETHYLMETHACRYLATE</td>\n      <td>19.110967</td>\n      <td>M3/TONNE</td>\n      <td>MM KG/yr</td>\n      <td>Utilities</td>\n      <td>IHS PEP</td>\n    </tr>\n    <tr>\n      <th>4</th>\n      <td>2M-584</td>\n      <td>2021 Q3</td>\n      <td>ELECTRICITY</td>\n      <td>Utilities</td>\n      <td>(METH)ACRYLIC RESIN PELLETS BY A CONTINUOUS BU...</td>\n      <td>1991.0</td>\n      <td>Germany</td>\n      <td>POLYMETHYLMETHACRYLATE</td>\n      <td>653.339914</td>\n      <td>KWH/TONNE</td>\n      <td>MM KG/yr</td>\n      <td>Utilities</td>\n      <td>IHS PEP</td>\n    </tr>\n  </tbody>\n</table>\n</div>"
     },
     "execution_count": 4,
     "metadata": {},
     "output_type": "execute_result"
    }
   ],
   "source": [
    "# Read in materials\n",
    "use_columns = ['Code', 'Data Version', 'Source', 'Source type', 'Target', 'Research Year', 'Geography', 'Product', 'Value', 'Value unit', 'Capacity unit']\n",
    "ihs_region = 'Germany'\n",
    "\n",
    "materials = pd.read_csv(ihs_materials_path)\n",
    "materials = materials[use_columns].loc[materials['Geography'] == ihs_region]\n",
    "materials.rename(columns={'Source':'Source/Object', 'Source type':'Type', 'Target':'Target/Process', 'Geography':'Country/Reg'}, inplace=True)\n",
    "materials['MeasType'] = materials['Type'].replace({'Raw Material':'Recipe', 'By-Product':'Recipe'})\n",
    "materials['Provenance'] = 'IHS PEP'\n",
    "\n",
    "# Enforce negative values as by-products\n",
    "materials['Type'] = ['By-Product' if val < 0 else def_type for val, def_type in zip(materials['Value'], materials['Type'])]\n",
    "\n",
    "materials.head()"
   ],
   "metadata": {
    "collapsed": false,
    "pycharm": {
     "name": "#%%\n"
    }
   }
  },
  {
   "cell_type": "code",
   "execution_count": 10,
   "outputs": [
    {
     "data": {
      "text/plain": "array(['POLYMETHYLMETHACRYLATE', 'HCFC-141B', '1,12-DODECANEDIAMINE',\n       '1,12-DODECANEDIOIC ACID', 'DINCH', '1,3-BUTADIENE', 'BUTADIENE',\n       '1,3-PROPANEDIOL', '1,4-BUTANEDIOL AND TETRAHYDROFURAN',\n       '1,4-BUTANEDIOL', '1,4-CYCLOHEXANEDIMETHANOL',\n       '1-PHENYLETHYLAMINE®', '2246-ANTIOXIDANT',\n       '2,4-DIMETHYL BENZALDEHYDE', '2,6-DI-TERT-BUTYLPHENOL',\n       '2,6-DIETHYLANILINE', '2,6-DIMETHYLPHENOL', '2-ETHYLHEXANOL',\n       '2-ETHYLHEXYL ACRYLATE', '2-ETHYLHEXYL DIPHENYL PHOSPHATE',\n       '2-HYDROXY-4-METHYLTHIOBUTANOIC ACID', '2-H-4-O-BENZOPHENONE',\n       '2-MERCAPTOBENZOTHIAZOLE', '2-PICOLINE', '3-HYDROXYPROPIONIC ACID',\n       \"4,4'-DICHLORODIPHENYL SULFONE\", \"4,4'-DIHYDROXYDIPHENYL\",\n       \"4,4'-METHYLENEDIANILINE\", '4-CHLORO-4-HYDROXY-BENZOPHENONE',\n       '4-METHYLPENTENE-1', '4-MP-1/1-DECENE COPOLYMER',\n       '6-HYDROXY-2-NAPHTHOIC ACID', 'ABS RESIN', 'ACESULFAME-K',\n       'ACETAL HOMOPOLYMER', 'ACETALDEHYDE', 'ACETAMINOPHEN',\n       'ACETIC ACID', 'ACETIC ANHYDRIDE AND ACETIC ACID',\n       'ACETIC ANHYDRIDE', 'ACETONE', 'ISOPROPANOL', 'ACETONITRILE',\n       'ACETYLENE', 'NATURAL GAS', 'ACROLEIN', 'ACRYLAMIDE',\n       'ACRYLIC ACID, ESTER GRADE', 'ACRYLIC ACID, GLACIAL',\n       'ACRYLIC ACID-MALEIC ACID', 'ACRYLIC ACID COPOLYMER, SAP',\n       'ACRYLONITRILE', 'ADHESIVE, HOT MELT, EVA',\n       'ADHESIVE, REACTIVE ACRYLIC', 'ADHESIVES, HOT MELT, 2 EVA',\n       'ADIPIC ACID', 'LIQUID HYDROCARBONS', 'ALACHLOR',\n       'ALCOHOL ETHOXYSULFATE', 'ALCOHOLS, HIGHER PRIMARY, C12-C15',\n       'ALCOHOLS, PRIMARY LINEAR, C12 & C14',\n       'ALCOHOLS, PRIMARY LINEAR, C12-C15',\n       'ALCOHOLS, PRIMARY LINEAR, C6-C20', 'ALCOHOLS, SECONDARY, C11-C15',\n       'DGDB POLYMER, ALIPHATIC/AROMATIC', 'GASOLINE ISOMERATE',\n       'ALKYL POLYGLYCOSIDES', 'ALLYL ALCOHOL', 'ALLYL CHLORIDE',\n       'ALPHA AMYLASE', 'ALUMINA, HIGH PURITY', 'AMMONIA',\n       'AMMONIUM NITRATE FERTILIZER', 'AMORPHOUS FLUOROPOLYMER',\n       'ANILINE', 'ANTHRAQUINONE', 'ARAMID SPUN YARN', 'ARAMID STAPLE',\n       'AROMATIC REFORMATE', 'ASCORBIC ACID', 'ASPARTAME', 'AZELAIC ACID',\n       'BACILLUS THURINGIENSIS', 'BASE OIL, GROUP 1', 'BASE OIL, GROUP 2',\n       'BASE OIL, GROUP 3', 'BENOMYL', 'BENZENE AND TOLUENE', 'BENZENE',\n       'BENZENE REFORMATE', 'BENZOIC ACID', 'BETA-SILICON CARBIDE',\n       'BIS(2-HYDROXYETHYL) TEREPHTHALATE', 'POLYETHYLENE, HDPE BM',\n       'ISOPRENE', 'ETHYLENE GLYCOL', 'BIODIESEL', 'C5-C6 STREAM',\n       'BIOSYNFUEL', 'BISPHENOL A CARBONATE OLIGOMER', 'BISPHENOL A',\n       'BISPHENOL A, PC GRADE', 'SYNTHETIC CRUDE OIL', 'SOYBEAN OIL',\n       'BOILER FEEDWATER', 'BOTTLES, EVOH/PP',\n       'BOTTLES, PET, BIAX ORIENT', 'ALKYL PHOSPHATE ESTERS, Br-Cl',\n       'BROMOBUTYL RUBBER', 'BTX', 'BUTANES', 'BUTENE-1', 'BUTYL RUBBER',\n       'BUTYLATED HYDROXYTOLUENE', 'BUTYROLACTAM', 'BUTYROLACTONE',\n       'ISOOCTANE', 'CALCIUM FORMATE', 'CALCIUM HYPOCHLORITE',\n       'CAPROLACTAM', 'CARBOFURAN', 'CARBON BLACK (HAF)',\n       'CARBON DIOXIDE REMOVAL', 'CARBON DIOXIDE', 'CARBON DISULFIDE',\n       'CARBON FIBER, PAN-BASED', 'CARBON FIBER, PITCH-BASED',\n       'CARBON MONOXIDE', 'CARBON TETRACHLORIDE', 'CARRAGEENAN',\n       'CATALYST, AMMOXIDATION', 'CATALYST, FCC', 'CAUSTIC SODA (50%)',\n       'CELLULASE', 'CELLULOSE ACETATE FLAKE', 'CFC-11', 'CFC-12',\n       'RECYCLED HDPE', 'RECYCLED PET', 'RECYCLED POLYPROPYLENE',\n       'CHLORINE/CAUSTIC SODA', 'CHLORINE DIOXIDE', 'CHLORINE',\n       'CHLOROACETIC ACID', 'CHLOROACETYL CHLORIDE', 'CHLOROBENZENE',\n       'HCFC-142B', 'CHLOROMETHANES', 'CHLOROPRENE', 'CHLOROTHALONIL',\n       'CLARIFIED WATER', 'LIGHT OIL, CRUDE', 'ETHYLENE', 'LIGHT OLEFINS',\n       'PROPYLENE, POLYMER GRADE', 'SUBSTITUTE NATURAL GAS',\n       'NYLON 6 CHIPS', 'POLYURETHANE FOAM SLAB', 'COOLING WATER',\n       'CRUDE BUTADIENE', 'CUMENE', 'CYANAMIDE (50% SOLN)',\n       'CYANURIC ACID', 'CYCLIC CARBONATE OLIGOMERS', 'CYCLODODECATRIENE',\n       'CYCLOHEXANE', 'CYCLOHEXANOL', 'CYCLOHEXANONE',\n       'CYCLOHEXANONE OXIME', 'D-PHENYLALANINE',\n       'DECABROMODIPHENYL OXIDE', 'DENDRIMER', 'DI(2-ETHYLHEXYL) ADIPATE',\n       'DI(2-ETHYLHEXYL) PHTHALATE', 'DIOCTYL PHTHALATE',\n       'DI-N-PROPYLAMINE', 'DIALKYL SULFOSUCCINATES',\n       'DIAMMONIUM PHOSPHATE', 'HFC-134A', 'DIESEL',\n       'DIESEL, FISCHER-TROPSCH', 'DIESEL, LOW AROMATICS',\n       'DIESEL, LOW SULFUR', 'DIESEL, NEAR-ZERO SULFUR', 'HCFC-22',\n       'DGEBPA', 'DIISODECYL ADIPATE', 'DIISONONYL PHTHALATE',\n       'DIISOPROPYL ETHER', 'DILAURYL THIODIPROPIONATE',\n       'DIMETHYL CARBONATE', 'DIMETHYL ETHER', 'DIMETHYL SULFOXIDE',\n       'DIMETHYL TEREPHTHALATE', 'DM-2,6-NAPHTHALENE DICARBOXYLATE',\n       'DIMETHYLDICHLOROSILANE', 'DINITROTOLUENE', 'DIOCTYL ADIPATE',\n       'DIOCTYL TEREPHTHALATE', 'DIPHENYL CARBONATE',\n       'DIPHENYL ISOPHTHALATE', 'DIPHENYL TEREPHTHALATE', 'DIPHENYLAMINE',\n       'DL-METHIONINE', 'DODECYL ALCOHOL ETHOXYLATE',\n       'DODECYL DIMETHYLAMINE OXIDE', 'DODECYLPHENOL',\n       'ELASTOMER, COPOLYESTER-ETHER', 'ELASTOMER, EPICHLOROHYDRIN',\n       'ELASTOMER, FLUOROCARBON', 'ELASTOMER, POLYAMIDE',\n       'ELASTOMER, POLYOLEFIN', 'ELASTOMER, POLYURETHANE', 'EPDM RUBBER',\n       'EPDM VI IMPROVER-DISPERSANT', 'EPICHLOROHYDRIN',\n       'EPOXY NOVOLAC RESIN, ECN', 'EPOXY NOVOLAC RESIN, EPN',\n       'EPOXY, HMW, DGEBPA & BPA', 'EPOXY, LIQUID, DGEBPA',\n       'EPOXY, LIQUID, TGMDA', 'EPOXY, SOLID',\n       'EPOXY, SOLID, DGEBPA & BPA', 'EPOXY, SOLID, TGBAPPB',\n       'EPOXY, SOLID, TGETPE', 'EPOXY, SOLID, TGPAP', 'ETHANOL',\n       'ETHANOL (99.7%)', 'ETHANOLAMINES', 'ETHANOX(R) 330',\n       'ETHYL ACETATE', 'ETHYL ACRYLATE', 'ETHYL LACTATE',\n       'ETHYL T-BUTYL ETHER', 'ETHYLBENZENE', 'ETHYLENE CARBONATE',\n       'ETHYLENE DICHLORIDE', 'ETHYLENE GLYCOL BUTYL ETHERS',\n       'ETHYLENE GLYCOL ETHYL ETHERS', 'ETHYLENE GLYCOL T-BUTYL ETHER',\n       'ETHYLENE OXIDE', 'ETHYLENE PLANT FEEDSTOCK',\n       'ETHYLENE VINYL ALCOHOL', 'POLYOLEFIN ELASTOMER',\n       'POLYOLEFIN PLASTOMER', 'ETHYLENE-NORBORNENE COPOLYMER',\n       'ETHYLENE-PROPYLENE COPOLYMER', 'ETHYLENE/MA ACID IONOMER',\n       'ETHYLENE/METHYL ACRYLATE', 'ETHYLENE/VA COPOLYMER',\n       'EVOH BARRIER RESIN', 'ETHYLENEAMINES', 'ETHYLENEDIAMINE',\n       'NAPHTHA & DIESEL', 'FATTY ACIDS, TALL OIL', 'FATTY ACIDS, TALLOW',\n       'FATTY AMINES, TALLOW', 'NAPHTHA, FCC', 'FENVALERATE', 'FEP RESIN',\n       'FERRO CHROME LIGNOSULFONATE', 'FT PRODUCTS',\n       'ACTIVATOR-SUPPORT CATALYST', 'FORMALDEHYDE', 'FORMALDEHYDE (50%)',\n       'FORMIC ACID (85%)', 'PROPANE', 'FRUCTOSE CORN SYRUP, HIGH',\n       'FUEL OIL, LOW SULFUR', 'FDCA/DIMETHYL FURANOATE',\n       'FURNACE PHOSPHORUS', 'GAS OIL, LOW SULFUR', 'GASOLINE ALKYLATE',\n       'GASOLINE', 'GASOLINE OCTANE, PROPYLENE DIMATE',\n       'GASOLINE REFORMATE', 'GASOLINE, ETHERIFIED', 'GASOLINE, FCC',\n       'GLYCERIN', 'GLYPHOSATE IPA SALT', 'GRAPHITE FIBER, PAN-BASED',\n       'GRAPHITE FIBER, PITCH-BASED', 'GREEN COKE', 'METHANOL',\n       'LUBE BASE OILS', 'PARAFFINS & WAXES',\n       'PARAFFINS, WAXES AND LUBE BASE OILS', 'HEXAFLUOROPROPYLENE',\n       'HEXAFLUOROPROPYLENE OXIDE', 'HEXAMETHYLENE DIISOCYANATE',\n       'HEXAMETHYLENEDIAMINE', 'HEXENE-1', 'ISOBUTYLENE, HIGH PURITY',\n       'HP FILM, LIQUID CRYSTAL POLYMER', 'HP FILM, POLYARYLATE',\n       'HP FILM, POLYETHERETHERKETONE', 'HP FILM, POLYETHERIMIDE',\n       'HP FILM, POLYETHERSULFONE', 'HP FILM, POLYPHENYLENE SULFIDE',\n       'HMDA AND CAPROLACTAM', 'HYDROCHLORIC ACID, ANHYDROUS',\n       'CATALYST, HYDROCRACKING', 'NONYL ALDEHYDE', 'HYDROGEN',\n       'HYDROGEN CYANIDE', 'HYDROGEN FLUORIDE', 'HYDROGEN PEROXIDE',\n       'HYDROGEN-ENRICHED PURGE', 'MTD-DCPC COPOLYMER',\n       'STYRENE-BUTADIENE-STYRENE COPOLYMER', 'HYDROQUINONE',\n       'HYDROXYLAMMONIUM SULFATE', 'HYDROXYPROPYL METHYL CELLULOSE',\n       'INERT GAS', 'ION-EXCHANGE(CATION), STR-ACID',\n       'ION-EXCHANGE(ANION), STR-BASE1', 'ION-EXCHANGE(ANION), STR-BASE2',\n       'ION-EXCHANGE(ANION), WEAK-BASE',\n       'ION-EXCHANGE(CATION), WEAK-ACID', 'IRGANOX(R) 1010',\n       'IRGANOX(R) 1076', 'C4 RAFFINATE', 'ISOBUTANE', 'ISOBUTANOL',\n       'ISOBUTYLBENZENE', 'ISOBUTYLENE', 'ISOBUTYLENE (100%)',\n       'ISODECANOL', 'ISODECYL DIPHENYL PHOSPHATE', 'ISONONYL ALCOHOL',\n       'ISOPHORONE DIISOCYANATE', 'ISOPHTHALIC ACID', 'ISOPHTHALONITRILE',\n       'ISOPHTHALOYL CHLORIDE', 'ISOPROPANOLAMINES', 'ISOPROPYL CHLORIDE',\n       'KEROSENE', 'KEROSENE, JET FUEL', 'L-ASPARTIC ACID',\n       'LACTIC ACID (88%)', 'L-LYSINE', 'L-THREONINE', 'GTL PRODUCTS',\n       'LINEAR ALKYLBENZENE', 'LINEAR ALKYLBENZENE SULFONATE', 'LIPASE',\n       'ETHANE, LIQUEFIED', 'LIQUEFIED NATURAL GAS',\n       'LIQUID CRYSTAL POLYMER, GF', 'LIQUID CRYSTAL POLYMER, NEAT',\n       'LIQUID CRYSTAL POLYMER, FILLED', 'LIQUID FUELS',\n       'PROPYLENE OXIDE', 'M-AMINOPHENOL', 'M-PHENOXYBENZALDEHYDE',\n       'M-TOLUIDINE', 'M-TOLYL ISOCYANATE', 'MALATHION',\n       'MALEIC ANHYDRIDE', 'MANCOZEB', 'MDI AND PMPPI',\n       'RECYLED PET PELLETS', 'MELAMINE', 'METALLOCENE, PAO',\n       'METHACRYLATE-BUTADIENE-STYRENE', 'METHAMIDOPHOS', 'METHANE',\n       'METHOMYL', 'METHYL ACETATE', 'METHYL ACRYLATE', 'METHYL CHLORIDE',\n       'METHYL CHLOROFORMATE', 'METHYL ESTER SULFONATE',\n       'METHYL ESTER SULFONATES', 'METHYL ETHYL KETONE', 'METHYL FORMATE',\n       'METHYL ISOBUTYL CARBINOL', 'METHYL ISOBUTYL KETONE',\n       'METHYL ISOCYANATE', 'METHYL MERCAPTAN', 'METHYL METHACRYLATE',\n       'METHYL PARATHION', 'METHYL SOYATE', 'MSA RESIN', 'METHYLAMINES',\n       'METHYLENE DIPHENYLENE ISOCYANATE', 'MDI, HYDROGENATED',\n       'METHYLTETRACYCLODODECENE', 'MF MOLDING COMPOUND', 'MF RESIN',\n       'PHENOL', 'MONOAMMONIUM PHOSPHATE', 'MONOSODIUM GLUTAMATE-H2O',\n       'METHYL T-BUTYL ETHER', 'N,N-DIETHYLANILINE', 'DIMETHYLACETAMIDE',\n       'N,N-DIMETHYLANILINE', 'DIMETHYLFORMAMIDE',\n       'N-BUTANOL AND 2-ETHYLHEXANOL', 'N-BUTANOL', 'N-BUTYL ACRYLATE',\n       'N-BUTYL ISOCYANATE', 'N-BUTYLAMINE', 'N-BUTYRALDEHYDE',\n       'N-METHYL-2-PYRROLIDONE', 'N-VALERALDEHYDE', 'NANOCLAY', 'NAPHTHA',\n       'NAPHTHA, AROMATIC', 'NAPHTHA, HEAVY', 'NAPHTHA, LIGHT',\n       'NAPHTHALENE', 'NAPROXEN', 'NATURAL DETERGENT ALCOHOL', 'SULFUR',\n       'NGL (86% Ethane)', 'NGL (50% Ethane)', 'NATURAL GAS LIQUIDS',\n       'NITRIC ACID (60%)', 'NITRIC ACID (99%)', 'NITRILE BARRIER RESIN',\n       'NITROBENZENE', 'NITROGEN (95%)', 'NONYLPHENOL ETHOXYLATE',\n       'NORBORNENE', 'NYLON 11 CHIPS', 'NYLON 4,6', 'NYLON 6 MELT',\n       'NYLON 612 CHIPS', 'NYLON 66 RESIN', 'NYLON 66 CHIPS',\n       'NYLON CARPET STAPLE', 'NYLON CARPET YARN',\n       'NYLON HOSIERY MONOFILAMENT', 'NYLON SALT (63% SOLN)',\n       'NYLON SALT, SOLID', 'NYLON TEXTILE YARN', 'NYLON TIRE CORD',\n       'NYLON/CLAY NANOCOMPOSITES', 'DMPCT', 'O-PHENYLENEDIAMINE',\n       'ETHYLENE/OCTENE OLEFINC BLOCK COPOLYMER', 'OCTENE-1',\n       'OLEFIN SULFONATES, ALPHA', 'OLEFINS, LINEAR ALPHA',\n       'OVERBASED CA SULFONATE', 'OVERBASED Mg SULFONATE', 'OXYGEN',\n       'OXYGEN-ENRICHED AIR', 'P-CHLOROBENZENE',\n       'P-CHLOROBENZOTRIFLUORIDE', 'P-CHLORONITROBENZENE',\n       'P-CHLOROTOLUENE', 'P-CRESOL', 'P-HYDROXYBENZOIC ACID',\n       'P-METHYLSTYRENE', 'P-NONYLPHENOL', 'P-PHENYLENEDIAMINE',\n       'P-T-BUTYLPHENOL', 'P-T-OCTYLPHENOL', 'P-XYLENE',\n       'PENTAERYTHRITOL ESTER', 'POLYURETHANE FOAM BOARD',\n       'PERACETIC ACID', 'PERCHLOROETHYLENE',\n       'PERFLUORO(PROPYLVINYL ETHER)', 'PFA RESIN', 'PERMETHRIN',\n       'PET PELLETS (IV=0.82)', 'PET PELLETS (IV=0.6)',\n       'PET POLYMER MELT', 'POLYETHYLENE TEREPHTHALATE',\n       'PETROLEUM RESIN, C5 ALIPHATIC', 'PETROLEUM RESIN, C9 AROMATIC',\n       'PETROLEUM RESIN, DCPD', 'PHENMEDIPHAM', 'PHENOL-FORMALDEHYDE MP',\n       'PHENOL-FORMALDEHYDE', 'PHOSGENE', 'PHOSPHORIC ACID (WET)',\n       'PHOSPHORIC ACID (AS P2O5)', 'PHOSPHORUS PENTASULFIDE',\n       'PHTHALIC ANHYDRIDE', 'PLANT AIR', 'PL FILM, EVA AGRICULTURAL',\n       'PL FILM, EVA/LLDPE/EVA, COEXTRUDED',\n       'PL FILM, EVA/NYLON/EVA, COEXTRUDED', 'PL FILM, FEP AND PFA',\n       'PL FILM, HDPE, BLOWN', 'PL FILM, HDPE/EVA, COEXTRUDED',\n       'PL FILM, HDPE/LDPE, COEXTRUDED', 'PL FILM, LDPE, BLOWN',\n       'PL FILM, LDPE/LLDPE/LDPE, COEXTRUDED',\n       'PL FILM, LDPE/NYLON/LDPE, COEXTRUDED', 'PL FILM, LLDPE, BLOWN',\n       'PL FILM, LLDPE/LDPE, COEXTRUDED',\n       'PL FILM, OPP/PVDC/LDPE, COEXTRUDED',\n       'PL FILM, PET, BIAX ORIENTED', 'PL FILM, PET, MICROPOROUS',\n       'PL FILM, PET/PVDC/LDPE, COEXTRUDED', 'PL FILM, POLYCARBONATE',\n       'PL FILM, POLYIMIDE', 'PL FILM, PP, BIAX ORIENTED',\n       'PL FILM, PP, MICROPOROUS', 'PL FILM, PP, UNORIENTED',\n       'PL FILM, PVC AGRICULTURAL', 'PL FILM, PVC/PVDC/EVA, COEXTRUDED',\n       'PMMA, SYNDIOTACTIC', 'PCT PELLETS', 'PCT PELLETS, ACID MODIFIED',\n       'PCT PELLETS, GLYCOL MODIFIED', 'PET PELLETS, GLYCOL MODIFIED',\n       'DGDB POLYMER, POLY(LACTIC ACID)', 'POLY(PROPYLENE CARBONATE)',\n       'POLY(PROPYLENE CARBONATE) POLYOL', 'POLY(STYR-MALEIC ANHYDRIDE)',\n       'POLY(STYRENE-MMA)', 'POLY(STYRENE/AMS/AA)',\n       'POLYACETAL COPOLYMER', 'POLYACRYLAMIDE (MW: 10M)',\n       'POLYACRYLAMIDE (MW: 20M)', 'POLYACRYLAMIDE (MW: 7-15M)',\n       'POLYACRYLAMIDE (MW: 7M)', 'POLYACRYLATE LATEX',\n       'POLYACRYLATE PELLETS', 'POLYACRYLATE RESIN',\n       'POLYACRYLATE RESIN, SAP', 'POLYACRYLIC ACID, HMW',\n       'POLYACRYLIC ACID, SAP', 'POLYACRYLONITRILE FIBER',\n       'POLYALPHAOLEFIN', 'POLYARYLATE', 'POLYARYLOXYPHOSPHAZENE',\n       'POLYBENZIMIDAZOLE', 'POLYBUTADIENE', 'POLYBUTENE-1', 'POLYBUTENE',\n       'PBT PELLETS (IV=0.85)', 'PBT PELLETS (IV>1.1)', 'PBT PELLETS',\n       'PBT PELLETS (30% GF)', 'POLYCARBONATE',\n       'POLYCARBONATE, POLYESTER', 'POLYESTER, UNSATURATED',\n       'POLYOL, POLYETHER (3,000 DA)', 'POLYOL, POLYETHER (707 DA)',\n       'POLYETHERETHERKETONE', 'POLYETHERIMIDE', 'POLYETHERKETONE',\n       'POLYETHERKETONEKETONE', 'POLYETHERNITRILE', 'POLYETHERSULFONE',\n       'POLYETHYLENE 2,6-NAPHTHALATE', 'POLYETHYLENE FURANOATE',\n       'PET PELLETS (30% GF)', 'PET PELLETS (IV=0.7)',\n       'PET PELLETS (IV=0.8)', 'PET PELLETS (IV=1.04), SP GRADE',\n       'POLYETHYLENE, CHLORINATED', 'POLYETHYLENE, HD',\n       'POLYETHYLENE, LD', 'POLYETHYLENE, LLD', 'POLYETHYLENE, LLD BM',\n       'POLYETHYLENE, VERY LD', 'POLYHYDROXYALKANOATE',\n       'POLYIMIDE, ACETYLENE', 'POLYIMIDE, BISMALEIMIDE',\n       'POLYISOBUTENYL SUCCINIMIDE', 'POLYISOBUTYLENE',\n       'POLYISOCYANURATE RIGID FOAM', 'DGDB POLYMER, PCL',\n       'DGDB POLYMER, PHBV', 'DGDB POLYMER, POLYLACTIDE',\n       'DGDB POLYMER, SAGPS', 'DGDB POLYMER, STARCH/EVOH', 'PMPPA',\n       'POLYOL, POLYESTER', 'POLYOL, POLYETHER', 'POLYOL, POLYMERIC',\n       'POLYOL, TRIFUNC POLYETHER', 'POLYPHENYLENE OXIDE',\n       'POLYPHENYLENE OXIDE, MODIFIED', 'POLYPHENYLENE SULFIDE',\n       'POLYPHENYLENE SULFIDE, NEAT', 'POLYPHTHALAMIDE, GF',\n       'POLYPHTHALAMIDE, NEAT', 'POLYPROPYLENE IMPACT COPOLYMER',\n       'POLYPROPYLENE', 'POLYPROPYLENE RANDOM COPOLYMER',\n       'POLYPROPYLENE, SYNDIOTACTIC', 'PP/BRBR/EPDM BLENDS',\n       'PP/CLAY NANOCOMPOSITES', 'PP/EPDM BLENDS', 'PP/NBR BLENDS',\n       'POLYSILICON', 'PS BEADS, GT (4% DVB) CM',\n       'PS BEADS, MP, GT (8% DVB) CM', 'POLY(STYR-DVB) (8% DVB)',\n       'POLY(STYR-DVB) (4% DVB)', 'POLY(STYR-DVB) (8% DVB)MP',\n       'POLYSTYRENE, ANIONIC', 'POLYSTYRENE, EXP', 'POLYSTYRENE, GP',\n       'POLYSTYRENE, HI', 'POLYSTYRENE, SYNDIOTACTIC', 'POLYSULFONE',\n       'POLYTETRAFLUOROETHYLENE', 'POLYTETRAMETHYLENE ETHER GLYCOL',\n       'POLYTRIMETHYLENE TEREPHTHALATE', 'POLYURETHANE RIM',\n       'POLYVINYL ACETATE', 'POLYVINYL ACETATE LATEX',\n       'POLYVINYL ALCOHOL', 'POLYVINYL BUTYRAL', 'POLYVINYL CHLORIDE',\n       'POLYVINYL CHLORIDE DISPERSION', 'POLYVINYL CHLORIDE, CHLORINATED',\n       'PVC/NBR BLENDS', 'POLYVINYLIDENE FLUORIDE', 'POTABLE WATER',\n       'PROCESS WATER', '2-PROPYLHEPTANOL', 'CATALYST/COBALT SALEN',\n       'ALCOHOL ETHER SULFATES', 'AMYL ALCOHOL', 'C12 ALCOHOL',\n       'CATALYST, METALLOCENE', 'IONIC LIQUID', 'PROPYLENE CARBONATE',\n       'PROPYLENE GLYCOL', 'PROPYLENE GLYCOL ETHERS', 'PSEUDOCUMENE',\n       'PHOSPHORIC ACID', 'TEREPHTHALIC ACID', 'PYRIDINE AND 3-PICOLINE',\n       'PYRIDINE AND BETA-PICOLINE', 'PYROMELLITIC DIANHYDRIDE',\n       'LDPE AND PA-6 GRANULES', 'SULFURIC ACID', 'RESID, HYDROTREATED',\n       'RESORCINOL', 'CATALYST, RFCC', 'SACCHARIN', 'SALICYCLIC ACID',\n       'DIESEL & NAPHTHA', 'SEBACIC ACID', 'SEC-BUTANOL',\n       'SILICON NITRIDE', 'SILICON, HIGH PURITY',\n       'SILICONE FLUIDS<30000CSK', 'MIDDLE DISTILLATE',\n       'SODIUM ALKYLBENZYL SULFONATE', 'SODIUM CARBONATE',\n       'SODIUM CARBOXYMETHYLCELLULOSE', 'SODIUM CHLORATE',\n       'SODIUM CHLORITE', 'SODIUM ETHYLXANTHATE', 'SODIUM HYPOCHLORITE',\n       'SODIUM NITRILOTRIACETATE', 'SODIUM TRIPOLYPHOSPHATE',\n       'STYRENE-BUTADIENE RUBBER', 'POLYOLS, SOY-BASED',\n       'SP FILM, BIAXIAL NYLON 6', 'SP FILM, COEXTRUDED NYLON 6-BASED',\n       'SP FILM, METALLIZED OPP', 'SP FILM, METALLIZED PET',\n       'SP FILM, PEN', 'SP FILM, PET', 'DGDB POLYMER, STARCH/PCL',\n       'STEAM, HP', 'STEAM, LP', 'STEAM, MP', 'STYRENE', 'SAN RESIN',\n       'STYRENE-BUTADIENE BLOCK COPOLYMER',\n       'SB BLOCK COPOLYMER, STAR-BLOCK',\n       'STYRENE-ISOPRENE-STYRENE ELASTOMER',\n       'STYRENE-MALEIC ANHYDRIDE RESIN', 'SUBTILISIN PROTEASE',\n       'SUCCINIC ACID', 'SUCRALOSE', 'GLUCOSE', 'SULFUR RECOVERY',\n       'SULFUR DIOXIDE REMOVAL', 'SYNCRUDE', 'SYNTHESIS GAS (1:1)',\n       'SYNTHESIS GAS (2:1)', 'SYNTHESIS GAS (3:1)',\n       'SYNTHESIS GAS (AMMONIA)', 'SYNTHESIS GAS (2.1:1)',\n       'SYNTHESIS GAS (H2)', 'T-AMYL METHYL ETHER',\n       'T-BUTANOL, GASOLINE GRADE', 'T-BUTYLPHENOLS',\n       'T-BP DIPHENYL PHOSPHATE', 'TAR ACIDS', 'TEREPHTHALOYL CHLORIDE',\n       'TETRABROMOBISPHENOL A', 'TETRAFLUOROETHYLENE',\n       'TFE/ETHYLENE COPOLYMER', 'TFE/HFP COPOLYMER', 'TETRAHYDROFURAN',\n       'TETRAMETHYLENEDIAMINE', 'TETRAMETHYLXYLYLENE DIISOCYANATE',\n       'THERMAL PHOSPHORIC ACID', 'TPU/ABS BLENDS', 'TPU/PC BLENDS',\n       'THIONYL CHLORIDE', 'PRECATALYST, TI/MG', 'TINUVIN(R) 144',\n       'TINUVIN(R) 770', 'TOLUENE DIISOCYANATE', 'TOLUENE',\n       'TRIARYL PHOSPHATE, SYNTH', 'TRICHLOROETHYLENE',\n       'TRICHLOROSILANE, SEMICOND', 'TRIFLURALIN',\n       'TRIMELLITIC ANHYDRIDE', 'TRIS(2-CL-IP) PHOSPHATE',\n       'TRIS(CL-ETHYL) PHOSPHATE', 'TRIS(DICL-IP) PHOSPHATE',\n       'TRIS(NONYLPHENOL) PHOSPHITE', 'XYLENES, MIXED',\n       'DEHEPTANIZER BOTTOMS', 'UREA, AGRICULTURAL GRADE',\n       'UREA-FORMALDEHYDE', 'UREA-FORMALDEHYDE SYRUP',\n       'URETHANE AUTO SEAT CUSHION', 'URETHANE SHOE SOLES', 'VANILLIN',\n       'VINYL ACETATE', 'VINYL ACETATE/ETHYLENE COPOLYMER',\n       'VINYL CHLORIDE', 'VINYL CHLORIDE/ACETATE', 'VDC/VCM COPOLYMER',\n       'VINYL ESTER RESIN', 'VINYLIDENE CHLORIDE',\n       'VDC EMULSION COPOLYMER', 'VDC LATEX COPOLYMER',\n       'VDC/EA/MA COPOLYMER', 'VDC/VCM SUSPENSION COPOLYMER',\n       'VINYLIDENE FLUORIDE', 'VITAMIN-E (ALPHA-TOCOPHEROL)',\n       'TREATED WASTE', 'WHITE OIL, MEDICAL GRADE',\n       'WHITE OIL, TECHNICAL GRADE', 'XANTHAN GUM',\n       'ZEOLITE A, DETERGENT GRADE', 'ZINC DITHIOPHOSPHATE',\n       'ZINC PHOSPHORODITHIOATE', 'ZIRCONIUM OXIDE'], dtype=object)"
     },
     "execution_count": 10,
     "metadata": {},
     "output_type": "execute_result"
    }
   ],
   "source": [
    "materials['Product'].unique()"
   ],
   "metadata": {
    "collapsed": false,
    "pycharm": {
     "name": "#%%\n"
    }
   }
  },
  {
   "cell_type": "code",
   "execution_count": 14,
   "outputs": [],
   "source": [
    "# Define unit conversion function\n",
    "\n",
    "def convert_units(mat_df:pd.DataFrame, unit_conversion:pd.DataFrame, unit_name:str, unit_column:str, value_column:str, unit_name_in_col:str, target_unit:str, inv_density:bool=False, standard_conversion:int=1) -> pd.DataFrame:\n",
    "\n",
    "    # Get appropriate conversions for unit\n",
    "    unit_filts = unit_conversion[unit_conversion['Unit']==unit_name]\n",
    "    unit_dict = dict(zip(unit_filts['Name'], unit_filts['density']))\n",
    "\n",
    "    # Cycle through dataframe to get conversion factor for each row\n",
    "    unit_mats = mat_df[mat_df[unit_column] == unit_name_in_col]\n",
    "    conv_factor = np.zeros(len(unit_mats))\n",
    "    for i, target in enumerate(unit_mats[value_column]):\n",
    "        for type in unit_dict.keys():\n",
    "            if target.startswith(type):\n",
    "                conv_factor[i] = unit_dict[type]\n",
    "                break\n",
    "            if type == list(unit_dict.keys())[-1]:\n",
    "                raise Exception(unit_name+' for '+target+' unit conversions missing')\n",
    "\n",
    "    # Convert values\n",
    "    if inv_density: # If converting from value in units to weight\n",
    "        unit_mats['Value'] = (unit_mats['Value']/standard_conversion)/conv_factor\n",
    "        #unit_mats['Value_sigma'] = (unit_mats['Value_sigma']/standard_conversion)/conv_factor\n",
    "    else: # If converting proportion of other materials\n",
    "        unit_mats['Value'] = (unit_mats['Value']/standard_conversion)*conv_factor\n",
    "        #unit_mats['Value_sigma'] = (unit_mats['Value_sigma']/standard_conversion)*conv_factor\n",
    "    unit_mats[unit_column] = target_unit\n",
    "\n",
    "    # Concatenate converted values with rest of original dataframe\n",
    "    return pd.concat((mat_df[mat_df[unit_column] != unit_name_in_col], unit_mats)).sort_values(['Code','Type'])"
   ],
   "metadata": {
    "collapsed": false,
    "pycharm": {
     "name": "#%%\n"
    }
   }
  },
  {
   "cell_type": "code",
   "execution_count": 15,
   "outputs": [],
   "source": [
    "## Capacity unit conversions -> So all values are unit/tonne\n",
    "\"\"\" BTL is for 2 types of plastic bottles - ignored for now\n",
    "    M3 is only for water therefore 1000 KG equivalent and is for MM3 so 1/1000 for kg\n",
    "    NM3 is for gases per MNM3 - conversions and to get tonne equivalent\"\"\"\n",
    "\n",
    "# BTL filt\n",
    "materials_filt = materials[materials['Capacity unit'] != 'MM BTL/yr']\n",
    "\n",
    "# NM3 filt\n",
    "unit_conversion = pd.read_excel(unit_conversion_path)\n",
    "materials_filt = convert_units(materials_filt, unit_conversion, 'NM3', 'Capacity unit', 'Target/Process', 'MM NM3/yr', 'MM KG/yr', inv_density=True, standard_conversion=1)\n",
    "\n",
    "# M3 filt\n",
    "materials_filt['Value'] = materials_filt['Capacity unit'].replace({'MM KG/yr':1, 'MM M3/yr':1/1000}).astype(float)*materials_filt['Value'].astype(float)\n",
    "materials_filt['Capacity unit'] = 'MM KG/yr'"
   ],
   "metadata": {
    "collapsed": false,
    "pycharm": {
     "name": "#%%\n"
    }
   }
  },
  {
   "cell_type": "code",
   "execution_count": 16,
   "outputs": [
    {
     "data": {
      "text/plain": "         Code Data Version          Source/Object          Type  \\\n637      2M-1      2021 Q3          ACRYLONITRILE  Raw Material   \n638      2M-1      2021 Q3              BUTADIENE  Raw Material   \n639      2M-1      2021 Q3         MISC CHEMICALS  Raw Material   \n640      2M-1      2021 Q3                STYRENE  Raw Material   \n641      2M-1      2021 Q3          COOLING WATER     Utilities   \n...       ...          ...                    ...           ...   \n19895  2M-999      2022 Q1  TRIMETHYLHYDROQUINONE  Raw Material   \n19896  2M-999      2022 Q1          COOLING WATER     Utilities   \n19897  2M-999      2022 Q1            ELECTRICITY     Utilities   \n19898  2M-999      2022 Q1          PROCESS WATER     Utilities   \n19899  2M-999      2022 Q1                  STEAM     Utilities   \n\n                                          Target/Process  Research Year  \\\n637            ABS RESIN BY EMULSION/MASS POLYMERIZATION         1980.0   \n638            ABS RESIN BY EMULSION/MASS POLYMERIZATION         1980.0   \n639            ABS RESIN BY EMULSION/MASS POLYMERIZATION         1980.0   \n640            ABS RESIN BY EMULSION/MASS POLYMERIZATION         1980.0   \n641            ABS RESIN BY EMULSION/MASS POLYMERIZATION         1980.0   \n...                                                  ...            ...   \n19895  VITAMIN-E (ALPHA-TOCOPHEROL) FROM CITRAL VIA I...         2002.0   \n19896  VITAMIN-E (ALPHA-TOCOPHEROL) FROM CITRAL VIA I...         2002.0   \n19897  VITAMIN-E (ALPHA-TOCOPHEROL) FROM CITRAL VIA I...         2002.0   \n19898  VITAMIN-E (ALPHA-TOCOPHEROL) FROM CITRAL VIA I...         2002.0   \n19899  VITAMIN-E (ALPHA-TOCOPHEROL) FROM CITRAL VIA I...         2002.0   \n\n      Country/Reg                       Product       Value Value unit  \\\n637       Germany                     ABS RESIN    0.250790      kg/kg   \n638       Germany                     ABS RESIN    0.196470      kg/kg   \n639       Germany                     ABS RESIN         NaN        NaN   \n640       Germany                     ABS RESIN    0.574110      kg/kg   \n641       Germany                     ABS RESIN   30.460712      kg/kg   \n...           ...                           ...         ...        ...   \n19895     Germany  VITAMIN-E (ALPHA-TOCOPHEROL)    0.350000      kg/kg   \n19896     Germany  VITAMIN-E (ALPHA-TOCOPHEROL)  353.816608      kg/kg   \n19897     Germany  VITAMIN-E (ALPHA-TOCOPHEROL)    0.663150     kWh/kg   \n19898     Germany  VITAMIN-E (ALPHA-TOCOPHEROL)    5.082349      kg/kg   \n19899     Germany  VITAMIN-E (ALPHA-TOCOPHEROL)    7.170000      kg/kg   \n\n      Capacity unit   MeasType Provenance  \n637        MM KG/yr     Recipe    IHS PEP  \n638        MM KG/yr     Recipe    IHS PEP  \n639        MM KG/yr     Recipe    IHS PEP  \n640        MM KG/yr     Recipe    IHS PEP  \n641        MM KG/yr  Utilities    IHS PEP  \n...             ...        ...        ...  \n19895      MM KG/yr     Recipe    IHS PEP  \n19896      MM KG/yr  Utilities    IHS PEP  \n19897      MM KG/yr  Utilities    IHS PEP  \n19898      MM KG/yr  Utilities    IHS PEP  \n19899      MM KG/yr  Utilities    IHS PEP  \n\n[19938 rows x 13 columns]",
      "text/html": "<div>\n<style scoped>\n    .dataframe tbody tr th:only-of-type {\n        vertical-align: middle;\n    }\n\n    .dataframe tbody tr th {\n        vertical-align: top;\n    }\n\n    .dataframe thead th {\n        text-align: right;\n    }\n</style>\n<table border=\"1\" class=\"dataframe\">\n  <thead>\n    <tr style=\"text-align: right;\">\n      <th></th>\n      <th>Code</th>\n      <th>Data Version</th>\n      <th>Source/Object</th>\n      <th>Type</th>\n      <th>Target/Process</th>\n      <th>Research Year</th>\n      <th>Country/Reg</th>\n      <th>Product</th>\n      <th>Value</th>\n      <th>Value unit</th>\n      <th>Capacity unit</th>\n      <th>MeasType</th>\n      <th>Provenance</th>\n    </tr>\n  </thead>\n  <tbody>\n    <tr>\n      <th>637</th>\n      <td>2M-1</td>\n      <td>2021 Q3</td>\n      <td>ACRYLONITRILE</td>\n      <td>Raw Material</td>\n      <td>ABS RESIN BY EMULSION/MASS POLYMERIZATION</td>\n      <td>1980.0</td>\n      <td>Germany</td>\n      <td>ABS RESIN</td>\n      <td>0.250790</td>\n      <td>kg/kg</td>\n      <td>MM KG/yr</td>\n      <td>Recipe</td>\n      <td>IHS PEP</td>\n    </tr>\n    <tr>\n      <th>638</th>\n      <td>2M-1</td>\n      <td>2021 Q3</td>\n      <td>BUTADIENE</td>\n      <td>Raw Material</td>\n      <td>ABS RESIN BY EMULSION/MASS POLYMERIZATION</td>\n      <td>1980.0</td>\n      <td>Germany</td>\n      <td>ABS RESIN</td>\n      <td>0.196470</td>\n      <td>kg/kg</td>\n      <td>MM KG/yr</td>\n      <td>Recipe</td>\n      <td>IHS PEP</td>\n    </tr>\n    <tr>\n      <th>639</th>\n      <td>2M-1</td>\n      <td>2021 Q3</td>\n      <td>MISC CHEMICALS</td>\n      <td>Raw Material</td>\n      <td>ABS RESIN BY EMULSION/MASS POLYMERIZATION</td>\n      <td>1980.0</td>\n      <td>Germany</td>\n      <td>ABS RESIN</td>\n      <td>NaN</td>\n      <td>NaN</td>\n      <td>MM KG/yr</td>\n      <td>Recipe</td>\n      <td>IHS PEP</td>\n    </tr>\n    <tr>\n      <th>640</th>\n      <td>2M-1</td>\n      <td>2021 Q3</td>\n      <td>STYRENE</td>\n      <td>Raw Material</td>\n      <td>ABS RESIN BY EMULSION/MASS POLYMERIZATION</td>\n      <td>1980.0</td>\n      <td>Germany</td>\n      <td>ABS RESIN</td>\n      <td>0.574110</td>\n      <td>kg/kg</td>\n      <td>MM KG/yr</td>\n      <td>Recipe</td>\n      <td>IHS PEP</td>\n    </tr>\n    <tr>\n      <th>641</th>\n      <td>2M-1</td>\n      <td>2021 Q3</td>\n      <td>COOLING WATER</td>\n      <td>Utilities</td>\n      <td>ABS RESIN BY EMULSION/MASS POLYMERIZATION</td>\n      <td>1980.0</td>\n      <td>Germany</td>\n      <td>ABS RESIN</td>\n      <td>30.460712</td>\n      <td>kg/kg</td>\n      <td>MM KG/yr</td>\n      <td>Utilities</td>\n      <td>IHS PEP</td>\n    </tr>\n    <tr>\n      <th>...</th>\n      <td>...</td>\n      <td>...</td>\n      <td>...</td>\n      <td>...</td>\n      <td>...</td>\n      <td>...</td>\n      <td>...</td>\n      <td>...</td>\n      <td>...</td>\n      <td>...</td>\n      <td>...</td>\n      <td>...</td>\n      <td>...</td>\n    </tr>\n    <tr>\n      <th>19895</th>\n      <td>2M-999</td>\n      <td>2022 Q1</td>\n      <td>TRIMETHYLHYDROQUINONE</td>\n      <td>Raw Material</td>\n      <td>VITAMIN-E (ALPHA-TOCOPHEROL) FROM CITRAL VIA I...</td>\n      <td>2002.0</td>\n      <td>Germany</td>\n      <td>VITAMIN-E (ALPHA-TOCOPHEROL)</td>\n      <td>0.350000</td>\n      <td>kg/kg</td>\n      <td>MM KG/yr</td>\n      <td>Recipe</td>\n      <td>IHS PEP</td>\n    </tr>\n    <tr>\n      <th>19896</th>\n      <td>2M-999</td>\n      <td>2022 Q1</td>\n      <td>COOLING WATER</td>\n      <td>Utilities</td>\n      <td>VITAMIN-E (ALPHA-TOCOPHEROL) FROM CITRAL VIA I...</td>\n      <td>2002.0</td>\n      <td>Germany</td>\n      <td>VITAMIN-E (ALPHA-TOCOPHEROL)</td>\n      <td>353.816608</td>\n      <td>kg/kg</td>\n      <td>MM KG/yr</td>\n      <td>Utilities</td>\n      <td>IHS PEP</td>\n    </tr>\n    <tr>\n      <th>19897</th>\n      <td>2M-999</td>\n      <td>2022 Q1</td>\n      <td>ELECTRICITY</td>\n      <td>Utilities</td>\n      <td>VITAMIN-E (ALPHA-TOCOPHEROL) FROM CITRAL VIA I...</td>\n      <td>2002.0</td>\n      <td>Germany</td>\n      <td>VITAMIN-E (ALPHA-TOCOPHEROL)</td>\n      <td>0.663150</td>\n      <td>kWh/kg</td>\n      <td>MM KG/yr</td>\n      <td>Utilities</td>\n      <td>IHS PEP</td>\n    </tr>\n    <tr>\n      <th>19898</th>\n      <td>2M-999</td>\n      <td>2022 Q1</td>\n      <td>PROCESS WATER</td>\n      <td>Utilities</td>\n      <td>VITAMIN-E (ALPHA-TOCOPHEROL) FROM CITRAL VIA I...</td>\n      <td>2002.0</td>\n      <td>Germany</td>\n      <td>VITAMIN-E (ALPHA-TOCOPHEROL)</td>\n      <td>5.082349</td>\n      <td>kg/kg</td>\n      <td>MM KG/yr</td>\n      <td>Utilities</td>\n      <td>IHS PEP</td>\n    </tr>\n    <tr>\n      <th>19899</th>\n      <td>2M-999</td>\n      <td>2022 Q1</td>\n      <td>STEAM</td>\n      <td>Utilities</td>\n      <td>VITAMIN-E (ALPHA-TOCOPHEROL) FROM CITRAL VIA I...</td>\n      <td>2002.0</td>\n      <td>Germany</td>\n      <td>VITAMIN-E (ALPHA-TOCOPHEROL)</td>\n      <td>7.170000</td>\n      <td>kg/kg</td>\n      <td>MM KG/yr</td>\n      <td>Utilities</td>\n      <td>IHS PEP</td>\n    </tr>\n  </tbody>\n</table>\n<p>19938 rows × 13 columns</p>\n</div>"
     },
     "execution_count": 16,
     "metadata": {},
     "output_type": "execute_result"
    }
   ],
   "source": [
    "## Value unit conversions -> So all values are in kg/kg\n",
    "\n",
    "# Filter out EA and BOAT\n",
    "materials_values = materials_filt[materials_filt['Value unit'] != 'EA']\n",
    "materials_values = materials_values[materials_values['Value unit'] != 'EA/TONNE']\n",
    "materials_values = materials_values[materials_values['Value unit'] != 'BOAT']\n",
    "\n",
    "# NM3 conversion\n",
    "materials_values = convert_units(materials_values, unit_conversion, 'NM3', 'Value unit', 'Source/Object', 'NM3', 'kg/kg', standard_conversion=1000)\n",
    "materials_values = convert_units(materials_values, unit_conversion, 'NM3', 'Value unit', 'Source/Object', 'NM3/TONNE', 'kg/kg', standard_conversion=1000)\n",
    "\n",
    "# MMCAL conversion\n",
    "materials_values = convert_units(materials_values, unit_conversion, 'MMCAL', 'Value unit', 'Source/Object', 'MMCAL', 'kg/kg', standard_conversion=1000)\n",
    "materials_values = convert_units(materials_values, unit_conversion, 'MMCAL', 'Value unit', 'Source/Object', 'MMCAL/TONNE', 'kg/kg', standard_conversion=1000)\n",
    "\n",
    "# Remaining standard conversions\n",
    "conversion_ratios = {'TONNE/TONNE':1, 'TONNE':1, 'KG/TONNE':1E-3, 'KG':1E-3, 'G/TONNE':1E-6, 'G':1E-6, 'M3/TONNE':1, 'M3':1, 'KWH/TONNE':1E-3, 'KWH':1E-3, 'kg/kg':1}\n",
    "conversion_names = {'TONNE/TONNE':'kg/kg', 'TONNE':'kg/kg', 'KG/TONNE':'kg/kg', 'KG':'kg/kg', 'G/TONNE':'kg/kg', 'G':'kg/kg', 'M3/TONNE':'kg/kg', 'M3':'kg/kg', 'KWH/TONNE':'kWh/kg',  'KWH':'kWh/kg', 'kg/kg':'kg/kg'}\n",
    "materials_values['Value'] = materials_values['Value unit'].replace(conversion_ratios)*materials_values['Value']\n",
    "materials_values['Value unit'] = materials_values['Value unit'].replace(conversion_names)\n",
    "\n",
    "materials_values"
   ],
   "metadata": {
    "collapsed": false,
    "pycharm": {
     "name": "#%%\n"
    }
   }
  },
  {
   "cell_type": "code",
   "execution_count": 17,
   "outputs": [],
   "source": [
    "# Add uncertainty\n",
    "uncertainty_factor = 0.05\n",
    "materials_values['Value_sigma'] = abs(materials_values['Value'])*uncertainty_factor"
   ],
   "metadata": {
    "collapsed": false,
    "pycharm": {
     "name": "#%%\n"
    }
   }
  },
  {
   "cell_type": "code",
   "execution_count": 18,
   "outputs": [
    {
     "data": {
      "text/plain": "         Code Data Version          Source/Object          Type  \\\n637      2M-1      2021 Q3          ACRYLONITRILE  Raw Material   \n638      2M-1      2021 Q3              BUTADIENE  Raw Material   \n639      2M-1      2021 Q3         MISC CHEMICALS  Raw Material   \n640      2M-1      2021 Q3                STYRENE  Raw Material   \n641      2M-1      2021 Q3          COOLING WATER     Utilities   \n...       ...          ...                    ...           ...   \n19895  2M-999      2022 Q1  TRIMETHYLHYDROQUINONE  Raw Material   \n19896  2M-999      2022 Q1          COOLING WATER     Utilities   \n19897  2M-999      2022 Q1            ELECTRICITY     Utilities   \n19898  2M-999      2022 Q1          PROCESS WATER     Utilities   \n19899  2M-999      2022 Q1                  STEAM     Utilities   \n\n                                          Target/Process  Research Year  \\\n637            ABS RESIN BY EMULSION/MASS POLYMERIZATION         1980.0   \n638            ABS RESIN BY EMULSION/MASS POLYMERIZATION         1980.0   \n639            ABS RESIN BY EMULSION/MASS POLYMERIZATION         1980.0   \n640            ABS RESIN BY EMULSION/MASS POLYMERIZATION         1980.0   \n641            ABS RESIN BY EMULSION/MASS POLYMERIZATION         1980.0   \n...                                                  ...            ...   \n19895  VITAMIN-E (ALPHA-TOCOPHEROL) FROM CITRAL VIA I...         2002.0   \n19896  VITAMIN-E (ALPHA-TOCOPHEROL) FROM CITRAL VIA I...         2002.0   \n19897  VITAMIN-E (ALPHA-TOCOPHEROL) FROM CITRAL VIA I...         2002.0   \n19898  VITAMIN-E (ALPHA-TOCOPHEROL) FROM CITRAL VIA I...         2002.0   \n19899  VITAMIN-E (ALPHA-TOCOPHEROL) FROM CITRAL VIA I...         2002.0   \n\n      Country/Reg                       Product       Value Value unit  \\\n637       Germany                     ABS RESIN    0.250790      kg/kg   \n638       Germany                     ABS RESIN    0.196470      kg/kg   \n639       Germany                     ABS RESIN         NaN        NaN   \n640       Germany                     ABS RESIN    0.574110      kg/kg   \n641       Germany                     ABS RESIN   30.460712      kg/kg   \n...           ...                           ...         ...        ...   \n19895     Germany  VITAMIN-E (ALPHA-TOCOPHEROL)    0.350000      kg/kg   \n19896     Germany  VITAMIN-E (ALPHA-TOCOPHEROL)  353.816608      kg/kg   \n19897     Germany  VITAMIN-E (ALPHA-TOCOPHEROL)    0.663150     kWh/kg   \n19898     Germany  VITAMIN-E (ALPHA-TOCOPHEROL)    5.082349      kg/kg   \n19899     Germany  VITAMIN-E (ALPHA-TOCOPHEROL)    7.170000      kg/kg   \n\n      Capacity unit   MeasType Provenance  Value_sigma  \n637        MM KG/yr     Recipe    IHS PEP     0.012540  \n638        MM KG/yr     Recipe    IHS PEP     0.009824  \n639        MM KG/yr     Recipe    IHS PEP          NaN  \n640        MM KG/yr     Recipe    IHS PEP     0.028706  \n641        MM KG/yr  Utilities    IHS PEP     1.523036  \n...             ...        ...        ...          ...  \n19895      MM KG/yr     Recipe    IHS PEP     0.017500  \n19896      MM KG/yr  Utilities    IHS PEP    17.690830  \n19897      MM KG/yr  Utilities    IHS PEP     0.033158  \n19898      MM KG/yr  Utilities    IHS PEP     0.254117  \n19899      MM KG/yr  Utilities    IHS PEP     0.358500  \n\n[19938 rows x 14 columns]",
      "text/html": "<div>\n<style scoped>\n    .dataframe tbody tr th:only-of-type {\n        vertical-align: middle;\n    }\n\n    .dataframe tbody tr th {\n        vertical-align: top;\n    }\n\n    .dataframe thead th {\n        text-align: right;\n    }\n</style>\n<table border=\"1\" class=\"dataframe\">\n  <thead>\n    <tr style=\"text-align: right;\">\n      <th></th>\n      <th>Code</th>\n      <th>Data Version</th>\n      <th>Source/Object</th>\n      <th>Type</th>\n      <th>Target/Process</th>\n      <th>Research Year</th>\n      <th>Country/Reg</th>\n      <th>Product</th>\n      <th>Value</th>\n      <th>Value unit</th>\n      <th>Capacity unit</th>\n      <th>MeasType</th>\n      <th>Provenance</th>\n      <th>Value_sigma</th>\n    </tr>\n  </thead>\n  <tbody>\n    <tr>\n      <th>637</th>\n      <td>2M-1</td>\n      <td>2021 Q3</td>\n      <td>ACRYLONITRILE</td>\n      <td>Raw Material</td>\n      <td>ABS RESIN BY EMULSION/MASS POLYMERIZATION</td>\n      <td>1980.0</td>\n      <td>Germany</td>\n      <td>ABS RESIN</td>\n      <td>0.250790</td>\n      <td>kg/kg</td>\n      <td>MM KG/yr</td>\n      <td>Recipe</td>\n      <td>IHS PEP</td>\n      <td>0.012540</td>\n    </tr>\n    <tr>\n      <th>638</th>\n      <td>2M-1</td>\n      <td>2021 Q3</td>\n      <td>BUTADIENE</td>\n      <td>Raw Material</td>\n      <td>ABS RESIN BY EMULSION/MASS POLYMERIZATION</td>\n      <td>1980.0</td>\n      <td>Germany</td>\n      <td>ABS RESIN</td>\n      <td>0.196470</td>\n      <td>kg/kg</td>\n      <td>MM KG/yr</td>\n      <td>Recipe</td>\n      <td>IHS PEP</td>\n      <td>0.009824</td>\n    </tr>\n    <tr>\n      <th>639</th>\n      <td>2M-1</td>\n      <td>2021 Q3</td>\n      <td>MISC CHEMICALS</td>\n      <td>Raw Material</td>\n      <td>ABS RESIN BY EMULSION/MASS POLYMERIZATION</td>\n      <td>1980.0</td>\n      <td>Germany</td>\n      <td>ABS RESIN</td>\n      <td>NaN</td>\n      <td>NaN</td>\n      <td>MM KG/yr</td>\n      <td>Recipe</td>\n      <td>IHS PEP</td>\n      <td>NaN</td>\n    </tr>\n    <tr>\n      <th>640</th>\n      <td>2M-1</td>\n      <td>2021 Q3</td>\n      <td>STYRENE</td>\n      <td>Raw Material</td>\n      <td>ABS RESIN BY EMULSION/MASS POLYMERIZATION</td>\n      <td>1980.0</td>\n      <td>Germany</td>\n      <td>ABS RESIN</td>\n      <td>0.574110</td>\n      <td>kg/kg</td>\n      <td>MM KG/yr</td>\n      <td>Recipe</td>\n      <td>IHS PEP</td>\n      <td>0.028706</td>\n    </tr>\n    <tr>\n      <th>641</th>\n      <td>2M-1</td>\n      <td>2021 Q3</td>\n      <td>COOLING WATER</td>\n      <td>Utilities</td>\n      <td>ABS RESIN BY EMULSION/MASS POLYMERIZATION</td>\n      <td>1980.0</td>\n      <td>Germany</td>\n      <td>ABS RESIN</td>\n      <td>30.460712</td>\n      <td>kg/kg</td>\n      <td>MM KG/yr</td>\n      <td>Utilities</td>\n      <td>IHS PEP</td>\n      <td>1.523036</td>\n    </tr>\n    <tr>\n      <th>...</th>\n      <td>...</td>\n      <td>...</td>\n      <td>...</td>\n      <td>...</td>\n      <td>...</td>\n      <td>...</td>\n      <td>...</td>\n      <td>...</td>\n      <td>...</td>\n      <td>...</td>\n      <td>...</td>\n      <td>...</td>\n      <td>...</td>\n      <td>...</td>\n    </tr>\n    <tr>\n      <th>19895</th>\n      <td>2M-999</td>\n      <td>2022 Q1</td>\n      <td>TRIMETHYLHYDROQUINONE</td>\n      <td>Raw Material</td>\n      <td>VITAMIN-E (ALPHA-TOCOPHEROL) FROM CITRAL VIA I...</td>\n      <td>2002.0</td>\n      <td>Germany</td>\n      <td>VITAMIN-E (ALPHA-TOCOPHEROL)</td>\n      <td>0.350000</td>\n      <td>kg/kg</td>\n      <td>MM KG/yr</td>\n      <td>Recipe</td>\n      <td>IHS PEP</td>\n      <td>0.017500</td>\n    </tr>\n    <tr>\n      <th>19896</th>\n      <td>2M-999</td>\n      <td>2022 Q1</td>\n      <td>COOLING WATER</td>\n      <td>Utilities</td>\n      <td>VITAMIN-E (ALPHA-TOCOPHEROL) FROM CITRAL VIA I...</td>\n      <td>2002.0</td>\n      <td>Germany</td>\n      <td>VITAMIN-E (ALPHA-TOCOPHEROL)</td>\n      <td>353.816608</td>\n      <td>kg/kg</td>\n      <td>MM KG/yr</td>\n      <td>Utilities</td>\n      <td>IHS PEP</td>\n      <td>17.690830</td>\n    </tr>\n    <tr>\n      <th>19897</th>\n      <td>2M-999</td>\n      <td>2022 Q1</td>\n      <td>ELECTRICITY</td>\n      <td>Utilities</td>\n      <td>VITAMIN-E (ALPHA-TOCOPHEROL) FROM CITRAL VIA I...</td>\n      <td>2002.0</td>\n      <td>Germany</td>\n      <td>VITAMIN-E (ALPHA-TOCOPHEROL)</td>\n      <td>0.663150</td>\n      <td>kWh/kg</td>\n      <td>MM KG/yr</td>\n      <td>Utilities</td>\n      <td>IHS PEP</td>\n      <td>0.033158</td>\n    </tr>\n    <tr>\n      <th>19898</th>\n      <td>2M-999</td>\n      <td>2022 Q1</td>\n      <td>PROCESS WATER</td>\n      <td>Utilities</td>\n      <td>VITAMIN-E (ALPHA-TOCOPHEROL) FROM CITRAL VIA I...</td>\n      <td>2002.0</td>\n      <td>Germany</td>\n      <td>VITAMIN-E (ALPHA-TOCOPHEROL)</td>\n      <td>5.082349</td>\n      <td>kg/kg</td>\n      <td>MM KG/yr</td>\n      <td>Utilities</td>\n      <td>IHS PEP</td>\n      <td>0.254117</td>\n    </tr>\n    <tr>\n      <th>19899</th>\n      <td>2M-999</td>\n      <td>2022 Q1</td>\n      <td>STEAM</td>\n      <td>Utilities</td>\n      <td>VITAMIN-E (ALPHA-TOCOPHEROL) FROM CITRAL VIA I...</td>\n      <td>2002.0</td>\n      <td>Germany</td>\n      <td>VITAMIN-E (ALPHA-TOCOPHEROL)</td>\n      <td>7.170000</td>\n      <td>kg/kg</td>\n      <td>MM KG/yr</td>\n      <td>Utilities</td>\n      <td>IHS PEP</td>\n      <td>0.358500</td>\n    </tr>\n  </tbody>\n</table>\n<p>19938 rows × 14 columns</p>\n</div>"
     },
     "execution_count": 18,
     "metadata": {},
     "output_type": "execute_result"
    }
   ],
   "source": [
    "materials_values"
   ],
   "metadata": {
    "collapsed": false,
    "pycharm": {
     "name": "#%%\n"
    }
   }
  },
  {
   "cell_type": "code",
   "execution_count": 19,
   "outputs": [],
   "source": [
    "# Output process recipes with consistent units and uncertainties\n",
    "materials_values.reset_index(drop=True).to_csv(output_path+'ihsMaterials_w_uncertainties.csv')"
   ],
   "metadata": {
    "collapsed": false,
    "pycharm": {
     "name": "#%%\n"
    }
   }
  },
  {
   "cell_type": "code",
   "execution_count": null,
   "outputs": [],
   "source": [],
   "metadata": {
    "collapsed": false,
    "pycharm": {
     "name": "#%%\n"
    }
   }
  }
 ],
 "metadata": {
  "kernelspec": {
   "display_name": "Python 3",
   "language": "python",
   "name": "python3"
  },
  "language_info": {
   "codemirror_mode": {
    "name": "ipython",
    "version": 2
   },
   "file_extension": ".py",
   "mimetype": "text/x-python",
   "name": "python",
   "nbconvert_exporter": "python",
   "pygments_lexer": "ipython2",
   "version": "2.7.6"
  }
 },
 "nbformat": 4,
 "nbformat_minor": 0
}