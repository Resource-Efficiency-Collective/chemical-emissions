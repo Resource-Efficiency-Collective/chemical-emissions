{
 "cells": [
  {
   "cell_type": "markdown",
   "source": [
    "# Distribution of production to all facilities\n",
    "\n",
    "Assumptions -> Each facility (within product and territory group) is producing at same rate of it's capacity\n",
    "\n",
    "Caveats -> Allocating production for FORMER USSR to RUSSIAN FEDERATION, FORMER CZECHOSLOVAKIA TO CZECH REPUBLIC, FORMER YUGOSLAVIA TO SERBIA/MONTENEGRO/KOSOVO\n",
    "-> Not using specific routes stated in production as they do not match-up with capacity routes"
   ],
   "metadata": {
    "collapsed": false
   }
  },
  {
   "cell_type": "code",
   "execution_count": 1,
   "outputs": [],
   "source": [
    "import pandas as pd\n",
    "\n",
    "filepath = \"D:/data/ICIS_data/facility_stats/to_2050/\"\n",
    "output_path = '../data/processed/'"
   ],
   "metadata": {
    "collapsed": false,
    "pycharm": {
     "name": "#%%\n"
    }
   }
  },
  {
   "cell_type": "code",
   "execution_count": 5,
   "outputs": [],
   "source": [
    "## Data filtering\n",
    "# Import ICIS data for facilities and production\n",
    "capacity, production = [pd.read_csv(filepath+file, low_memory=False, index_col=0) for file in ['capacity.csv', 'production.csv']]\n",
    "\n",
    "# Distribute production amongst facilities according to capacities\n",
    "years = list(map(str, list(range(1978, 2051))))\n",
    "capacity_filt = capacity.dropna(axis=1, how='all').replace('-',0).fillna(0)\n",
    "capacity_filt[years] = capacity_filt[years].astype(float)\n",
    "\n",
    "# Fix production names\n",
    "name_dict = {'FORMER USSR':'RUSSIAN FEDERATION', 'FORMER CZECHOSLOVAKIA':'CZECH REPUBLIC', 'FORMER YUGOSLAVIA': 'SERBIA/MONTENEGRO/KOSOVO'}\n",
    "production['COUNTRY/TERRITORY'] = production['COUNTRY/TERRITORY'].replace(name_dict)\n",
    "production_filt = production.dropna(axis=1, how='all').replace('-',0).fillna(0)\n",
    "production_filt[years] = production_filt[years].astype(float)"
   ],
   "metadata": {
    "collapsed": false,
    "pycharm": {
     "name": "#%%\n"
    }
   }
  },
  {
   "cell_type": "code",
   "execution_count": 20,
   "outputs": [],
   "source": [
    "# Get proportion of capacity that each facility represents per product/country\n",
    "grouping_cols = ['PRODUCT', 'COUNTRY/TERRITORY']\n",
    "capacity_totals = capacity_filt.groupby(grouping_cols).sum()\n",
    "capacity_props = capacity_filt.merge(capacity_totals[years], on=grouping_cols, how='left')\n",
    "x_cols, y_cols = [[str(i)+addition for i in years] for addition in ['_x', '_y']]\n",
    "\n",
    "for year, x_col, y_col in zip(years, x_cols, y_cols):\n",
    "    capacity_props[year] = capacity_props[x_col]/capacity_props[y_col]\n",
    "capacity_props = capacity_props[list(capacity_props.columns[:14])+years].fillna(0)\n",
    "\n",
    "# Get production per grouping columns\n",
    "production_totals = production_filt[grouping_cols+years].groupby(grouping_cols).sum().reset_index()\n",
    "\n",
    "# Get production per facility\n",
    "facility_production = capacity_props.merge(production_totals, on=grouping_cols, how='left')\n",
    "for year, x_col, y_col in zip(years, x_cols, y_cols):\n",
    "    facility_production[year] = facility_production[x_col]*facility_production[y_col]\n",
    "facility_production = facility_production[list(facility_production.columns[:14])+years].fillna(0)"
   ],
   "metadata": {
    "collapsed": false,
    "pycharm": {
     "name": "#%%\n"
    }
   }
  },
  {
   "cell_type": "code",
   "execution_count": 22,
   "outputs": [],
   "source": [
    "facility_production.to_csv(output_path+'icisFacilityProduction.csv')"
   ],
   "metadata": {
    "collapsed": false,
    "pycharm": {
     "name": "#%%\n"
    }
   }
  },
  {
   "cell_type": "code",
   "execution_count": 23,
   "outputs": [],
   "source": [
    "## Add uncertainties\n",
    "production_uncertainty = 0.1\n",
    "facility_production = pd.read_csv(output_path+'icisFacilityProduction.csv', index_col=0)\n",
    "\n",
    "years = list(map(str, list(range(1978, 2051))))\n",
    "for col in years:\n",
    "    facility_production[col+'_sigma'] = facility_production[col]*production_uncertainty\n",
    "\n",
    "facility_production.to_csv(output_path+'icisFacilityProduction_w_uncertainties.csv')"
   ],
   "metadata": {
    "collapsed": false,
    "pycharm": {
     "name": "#%%\n"
    }
   }
  },
  {
   "cell_type": "code",
   "execution_count": 53,
   "outputs": [],
   "source": [
    "## Remove parent products do avoid double counting\n",
    "production = pd.read_csv(output_path+'icisFacilityProduction_w_uncertainties.csv', index_col=0)\n",
    "\n",
    "years = [str(i) for i in range(1978, 2051)]\n",
    "years_sigma = [i+'_sigma' for i in years]\n",
    "years_x = [i+'_x' for i in years]\n",
    "years_y = [i+'_y' for i in years]\n",
    "years_sigma_x = [i+'_sigma_x' for i in years]\n",
    "years_sigma_y = [i+'_sigma_y' for i in years]\n",
    "\n",
    "parents = ['POLYESTER POLYMER', 'POLYAMIDE FIBRES']\n",
    "children = [['PET RESINS', 'POLYESTER FIBRES', 'POLYESTER FILM'], ['PAM RESINS (6+66)']]"
   ],
   "metadata": {
    "collapsed": false,
    "pycharm": {
     "name": "#%%\n"
    }
   }
  },
  {
   "cell_type": "code",
   "execution_count": 54,
   "outputs": [],
   "source": [
    "for parent, childs in zip(parents, children):\n",
    "    df_parent = production[production['PRODUCT']==parent]\n",
    "\n",
    "    for child in childs:\n",
    "        df_child = production[production['PRODUCT']==child]\n",
    "        merged = df_parent.merge(df_child, how='left', on=['COUNTRY/TERRITORY', 'STATE', 'COMPANY', 'SITE', '#'])\n",
    "\n",
    "        parent_update = (merged[years_x].values-merged[years_y].fillna(0).values).clip(0)\n",
    "        parent_sigma_update = (merged[years_sigma_x].values-merged[years_sigma_y].fillna(0).values).clip(0)\n",
    "\n",
    "        df_parent = merged.drop(columns=[col for col in merged.columns if '_y' in col ])\n",
    "        df_parent.columns = [title[:-2] if '_x' in title else title for title in df_parent.columns]\n",
    "\n",
    "        df_parent[years] = parent_update\n",
    "        df_parent[years_sigma] = parent_sigma_update\n",
    "\n",
    "    production = pd.concat((production[production['PRODUCT']!=parent], df_parent))"
   ],
   "metadata": {
    "collapsed": false,
    "pycharm": {
     "name": "#%%\n"
    }
   }
  },
  {
   "cell_type": "code",
   "execution_count": 55,
   "outputs": [],
   "source": [
    "production = production.sort_values(['PRODUCT', 'COUNTRY/TERRITORY', 'COMPANY', 'SITE', '#', 'ROUTE', 'TECHNOLOGY']).reset_index(drop=True)"
   ],
   "metadata": {
    "collapsed": false,
    "pycharm": {
     "name": "#%%\n"
    }
   }
  },
  {
   "cell_type": "code",
   "execution_count": 57,
   "outputs": [],
   "source": [
    "production.to_csv(output_path+'icisFacilityProduction_dedoubled.csv')"
   ],
   "metadata": {
    "collapsed": false,
    "pycharm": {
     "name": "#%%\n"
    }
   }
  }
 ],
 "metadata": {
  "kernelspec": {
   "display_name": "Python 3",
   "language": "python",
   "name": "python3"
  },
  "language_info": {
   "codemirror_mode": {
    "name": "ipython",
    "version": 2
   },
   "file_extension": ".py",
   "mimetype": "text/x-python",
   "name": "python",
   "nbconvert_exporter": "python",
   "pygments_lexer": "ipython2",
   "version": "2.7.6"
  }
 },
 "nbformat": 4,
 "nbformat_minor": 0
}