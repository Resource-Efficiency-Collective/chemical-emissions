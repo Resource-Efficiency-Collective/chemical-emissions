{
 "cells": [
  {
   "cell_type": "code",
   "execution_count": 3,
   "outputs": [],
   "source": [
    "import numpy as np\n",
    "import pandas as pd\n",
    "from tqdm import tqdm"
   ],
   "metadata": {
    "collapsed": false,
    "pycharm": {
     "name": "#%%\n"
    },
    "ExecuteTime": {
     "end_time": "2024-03-25T22:25:38.702677Z",
     "start_time": "2024-03-25T22:25:38.695048Z"
    }
   }
  },
  {
   "cell_type": "code",
   "execution_count": 12,
   "outputs": [],
   "source": [
    "# Import data\n",
    "data_path = '/Users/lukecullen/PycharmProjects/petrochemical-data/data/'\n",
    "estimated_file = data_path+'combined/240325_All/facilityEmissions_all.parquet'\n",
    "\n",
    "start_year = 2020\n",
    "end_year = 2050\n",
    "CCS_gas = 'Carbon dioxide'\n",
    "gas_nx = 'Nitric oxide' # Actually nitrous oxide, this is to compensate for previous misnamings\n",
    "CCS_ratio = 0.45\n",
    "# efficiency = 0.9\n",
    "summary_gases = ['CO2e_20a', 'CO2e_100a']\n",
    "process = 'Direct Process'"
   ],
   "metadata": {
    "collapsed": false,
    "pycharm": {
     "name": "#%%\n"
    },
    "ExecuteTime": {
     "end_time": "2024-03-25T22:26:37.811620Z",
     "start_time": "2024-03-25T22:26:37.809786Z"
    }
   }
  },
  {
   "cell_type": "code",
   "outputs": [],
   "source": [
    "data = pd.read_parquet(estimated_file)\n",
    "dp_emissions = data[data['Type']==process]\n",
    "#deu_emissions = data[data['Type']=='Direct Utilities']"
   ],
   "metadata": {
    "collapsed": false,
    "ExecuteTime": {
     "end_time": "2024-03-25T22:26:44.997702Z",
     "start_time": "2024-03-25T22:26:39.250120Z"
    }
   },
   "execution_count": 13
  },
  {
   "cell_type": "code",
   "outputs": [],
   "source": [
    "a = 1\n",
    "b = 0.35\n",
    "c = 1\n",
    "M = 15\n",
    "y = range(0, end_year-start_year+1)\n",
    "\n",
    "penetration = a / (1+np.exp(-b*(np.array(y)-M)))**a\n",
    "\n",
    "years = [str(i) for i in range(start_year, end_year+1)]\n",
    "years_sigma = [year+'_sigma' for year in years]\n",
    "\n",
    "df = dp_emissions.copy()"
   ],
   "metadata": {
    "collapsed": false,
    "ExecuteTime": {
     "end_time": "2024-03-25T22:26:45.248835Z",
     "start_time": "2024-03-25T22:26:45.004429Z"
    }
   },
   "execution_count": 14
  },
  {
   "cell_type": "code",
   "outputs": [
    {
     "name": "stderr",
     "output_type": "stream",
     "text": [
      "/var/folders/xm/c2mlyq6s23nb_g6_v4fylb7h0000gn/T/ipykernel_9735/2211383848.py:8: SettingWithCopyWarning: \n",
      "A value is trying to be set on a copy of a slice from a DataFrame.\n",
      "Try using .loc[row_indexer,col_indexer] = value instead\n",
      "\n",
      "See the caveats in the documentation: https://pandas.pydata.org/pandas-docs/stable/user_guide/indexing.html#returning-a-view-versus-a-copy\n",
      "  gas_emissions[years] = new_emissions\n",
      "/var/folders/xm/c2mlyq6s23nb_g6_v4fylb7h0000gn/T/ipykernel_9735/2211383848.py:9: SettingWithCopyWarning: \n",
      "A value is trying to be set on a copy of a slice from a DataFrame.\n",
      "Try using .loc[row_indexer,col_indexer] = value instead\n",
      "\n",
      "See the caveats in the documentation: https://pandas.pydata.org/pandas-docs/stable/user_guide/indexing.html#returning-a-view-versus-a-copy\n",
      "  gas_emissions[years_sigma] = new_sigmas\n",
      "/var/folders/xm/c2mlyq6s23nb_g6_v4fylb7h0000gn/T/ipykernel_9735/2211383848.py:17: SettingWithCopyWarning: \n",
      "A value is trying to be set on a copy of a slice from a DataFrame.\n",
      "Try using .loc[row_indexer,col_indexer] = value instead\n",
      "\n",
      "See the caveats in the documentation: https://pandas.pydata.org/pandas-docs/stable/user_guide/indexing.html#returning-a-view-versus-a-copy\n",
      "  summary_emissions[years] = summary_emissions[years].values - gas_reduction*gas_ratio\n",
      "/var/folders/xm/c2mlyq6s23nb_g6_v4fylb7h0000gn/T/ipykernel_9735/2211383848.py:18: SettingWithCopyWarning: \n",
      "A value is trying to be set on a copy of a slice from a DataFrame.\n",
      "Try using .loc[row_indexer,col_indexer] = value instead\n",
      "\n",
      "See the caveats in the documentation: https://pandas.pydata.org/pandas-docs/stable/user_guide/indexing.html#returning-a-view-versus-a-copy\n",
      "  summary_emissions[years_sigma] = summary_emissions[years_sigma].values - sigma_reduction*gas_ratio\n",
      "/var/folders/xm/c2mlyq6s23nb_g6_v4fylb7h0000gn/T/ipykernel_9735/2211383848.py:17: SettingWithCopyWarning: \n",
      "A value is trying to be set on a copy of a slice from a DataFrame.\n",
      "Try using .loc[row_indexer,col_indexer] = value instead\n",
      "\n",
      "See the caveats in the documentation: https://pandas.pydata.org/pandas-docs/stable/user_guide/indexing.html#returning-a-view-versus-a-copy\n",
      "  summary_emissions[years] = summary_emissions[years].values - gas_reduction*gas_ratio\n",
      "/var/folders/xm/c2mlyq6s23nb_g6_v4fylb7h0000gn/T/ipykernel_9735/2211383848.py:18: SettingWithCopyWarning: \n",
      "A value is trying to be set on a copy of a slice from a DataFrame.\n",
      "Try using .loc[row_indexer,col_indexer] = value instead\n",
      "\n",
      "See the caveats in the documentation: https://pandas.pydata.org/pandas-docs/stable/user_guide/indexing.html#returning-a-view-versus-a-copy\n",
      "  summary_emissions[years_sigma] = summary_emissions[years_sigma].values - sigma_reduction*gas_ratio\n"
     ]
    }
   ],
   "source": [
    "def get_gas_reduction(df, CCS_gas, CCS_ratio, penetration, years, years_sigma):\n",
    "    gas_emissions = df[df['Gas']==CCS_gas]\n",
    "    new_emissions = gas_emissions[years]*(1-penetration*CCS_ratio)\n",
    "    new_sigmas = gas_emissions[years_sigma]*(1-penetration*CCS_ratio)\n",
    "    \n",
    "    gas_reduction = gas_emissions[years].values - new_emissions.values\n",
    "    sigma_reduction = gas_emissions[years_sigma].values - new_sigmas.values\n",
    "    gas_emissions[years] = new_emissions\n",
    "    gas_emissions[years_sigma] = new_sigmas\n",
    "    \n",
    "    return gas_reduction, sigma_reduction, gas_emissions\n",
    "\n",
    "\n",
    "def get_summary_emissions(df, summary_gas, gas_reduction, sigma_reduction, years, years_sigma, gas_ratio=1):\n",
    "    \"\"\"Gas ratio is the ratio of the gas greenhouse effect relative to CO2 for the summary period (20yr or 100yr) desired\"\"\"\n",
    "    summary_emissions = df[df['Gas']==summary_gas]\n",
    "    summary_emissions[years] = summary_emissions[years].values - gas_reduction*gas_ratio\n",
    "    summary_emissions[years_sigma] = summary_emissions[years_sigma].values - sigma_reduction*gas_ratio\n",
    "    return summary_emissions\n",
    "\n",
    "gas_reduction, sigma_reduction, gas_emissions = get_gas_reduction(df, CCS_gas, CCS_ratio, penetration, years, years_sigma)\n",
    "\n",
    "# For first gas\n",
    "ccs_emissions = df[[i not in [CCS_gas]+summary_gases for i in df['Gas']]]\n",
    "\n",
    "for summary_gas in summary_gases:\n",
    "    summary_emissions = get_summary_emissions(df, summary_gas, gas_reduction, sigma_reduction, years, years_sigma)\n",
    "    ccs_emissions = pd.concat((ccs_emissions, summary_emissions))\n",
    "    \n",
    "ccs_emissions = pd.concat((ccs_emissions, gas_emissions))"
   ],
   "metadata": {
    "collapsed": false,
    "ExecuteTime": {
     "end_time": "2024-03-25T22:26:47.385953Z",
     "start_time": "2024-03-25T22:26:46.658129Z"
    }
   },
   "execution_count": 15
  },
  {
   "cell_type": "code",
   "outputs": [
    {
     "name": "stderr",
     "output_type": "stream",
     "text": [
      "/var/folders/xm/c2mlyq6s23nb_g6_v4fylb7h0000gn/T/ipykernel_9735/2211383848.py:8: SettingWithCopyWarning: \n",
      "A value is trying to be set on a copy of a slice from a DataFrame.\n",
      "Try using .loc[row_indexer,col_indexer] = value instead\n",
      "\n",
      "See the caveats in the documentation: https://pandas.pydata.org/pandas-docs/stable/user_guide/indexing.html#returning-a-view-versus-a-copy\n",
      "  gas_emissions[years] = new_emissions\n",
      "/var/folders/xm/c2mlyq6s23nb_g6_v4fylb7h0000gn/T/ipykernel_9735/2211383848.py:9: SettingWithCopyWarning: \n",
      "A value is trying to be set on a copy of a slice from a DataFrame.\n",
      "Try using .loc[row_indexer,col_indexer] = value instead\n",
      "\n",
      "See the caveats in the documentation: https://pandas.pydata.org/pandas-docs/stable/user_guide/indexing.html#returning-a-view-versus-a-copy\n",
      "  gas_emissions[years_sigma] = new_sigmas\n",
      "/var/folders/xm/c2mlyq6s23nb_g6_v4fylb7h0000gn/T/ipykernel_9735/2211383848.py:17: SettingWithCopyWarning: \n",
      "A value is trying to be set on a copy of a slice from a DataFrame.\n",
      "Try using .loc[row_indexer,col_indexer] = value instead\n",
      "\n",
      "See the caveats in the documentation: https://pandas.pydata.org/pandas-docs/stable/user_guide/indexing.html#returning-a-view-versus-a-copy\n",
      "  summary_emissions[years] = summary_emissions[years].values - gas_reduction*gas_ratio\n",
      "/var/folders/xm/c2mlyq6s23nb_g6_v4fylb7h0000gn/T/ipykernel_9735/2211383848.py:18: SettingWithCopyWarning: \n",
      "A value is trying to be set on a copy of a slice from a DataFrame.\n",
      "Try using .loc[row_indexer,col_indexer] = value instead\n",
      "\n",
      "See the caveats in the documentation: https://pandas.pydata.org/pandas-docs/stable/user_guide/indexing.html#returning-a-view-versus-a-copy\n",
      "  summary_emissions[years_sigma] = summary_emissions[years_sigma].values - sigma_reduction*gas_ratio\n",
      "/var/folders/xm/c2mlyq6s23nb_g6_v4fylb7h0000gn/T/ipykernel_9735/2211383848.py:17: SettingWithCopyWarning: \n",
      "A value is trying to be set on a copy of a slice from a DataFrame.\n",
      "Try using .loc[row_indexer,col_indexer] = value instead\n",
      "\n",
      "See the caveats in the documentation: https://pandas.pydata.org/pandas-docs/stable/user_guide/indexing.html#returning-a-view-versus-a-copy\n",
      "  summary_emissions[years] = summary_emissions[years].values - gas_reduction*gas_ratio\n",
      "/var/folders/xm/c2mlyq6s23nb_g6_v4fylb7h0000gn/T/ipykernel_9735/2211383848.py:18: SettingWithCopyWarning: \n",
      "A value is trying to be set on a copy of a slice from a DataFrame.\n",
      "Try using .loc[row_indexer,col_indexer] = value instead\n",
      "\n",
      "See the caveats in the documentation: https://pandas.pydata.org/pandas-docs/stable/user_guide/indexing.html#returning-a-view-versus-a-copy\n",
      "  summary_emissions[years_sigma] = summary_emissions[years_sigma].values - sigma_reduction*gas_ratio\n"
     ]
    }
   ],
   "source": [
    "# For second gas\n",
    "gas_reduction_nx, sigma_reduction_nx, gas_emissions_nx = get_gas_reduction(ccs_emissions, gas_nx, CCS_ratio, penetration, years, years_sigma)\n",
    "\n",
    "ccs_emissions_nx = ccs_emissions[[i not in [gas_nx]+summary_gases for i in ccs_emissions['Gas']]]\n",
    "\n",
    "for summary_gas in summary_gases:\n",
    "    summary_emissions = get_summary_emissions(ccs_emissions, summary_gas, gas_reduction_nx, sigma_reduction_nx, years, years_sigma, gas_ratio=281)\n",
    "    ccs_emissions_nx = pd.concat((ccs_emissions_nx, summary_emissions))\n",
    "    \n",
    "ccs_emissions_nx = pd.concat((ccs_emissions_nx, gas_emissions_nx))"
   ],
   "metadata": {
    "collapsed": false,
    "ExecuteTime": {
     "end_time": "2024-03-25T22:26:55.610859Z",
     "start_time": "2024-03-25T22:26:54.979113Z"
    }
   },
   "execution_count": 16
  },
  {
   "cell_type": "code",
   "outputs": [],
   "source": [
    "#ccs_emissions.to_csv(data_path+'scenarios/dp_ccs_emissions.csv')\n",
    "ccs_emissions_nx.to_csv(data_path+'scenarios/dp_ccs_emissions_scurve_'+process+'_'+str(CCS_ratio)[2:]+'.csv')"
   ],
   "metadata": {
    "collapsed": false,
    "ExecuteTime": {
     "end_time": "2024-03-25T22:27:11.320994Z",
     "start_time": "2024-03-25T22:27:01.446208Z"
    }
   },
   "execution_count": 17
  },
  {
   "cell_type": "code",
   "outputs": [],
   "source": [],
   "metadata": {
    "collapsed": false
   }
  }
 ],
 "metadata": {
  "kernelspec": {
   "display_name": "Python 3",
   "language": "python",
   "name": "python3"
  },
  "language_info": {
   "codemirror_mode": {
    "name": "ipython",
    "version": 2
   },
   "file_extension": ".py",
   "mimetype": "text/x-python",
   "name": "python",
   "nbconvert_exporter": "python",
   "pygments_lexer": "ipython2",
   "version": "2.7.6"
  }
 },
 "nbformat": 4,
 "nbformat_minor": 0
}
