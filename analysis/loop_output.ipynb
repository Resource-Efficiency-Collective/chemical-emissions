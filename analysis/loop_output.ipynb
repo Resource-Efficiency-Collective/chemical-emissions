{
 "cells": [
  {
   "cell_type": "code",
   "execution_count": 1,
   "id": "initial_id",
   "metadata": {
    "collapsed": true,
    "ExecuteTime": {
     "end_time": "2024-05-03T11:32:44.987344Z",
     "start_time": "2024-05-03T11:32:44.983936Z"
    }
   },
   "outputs": [],
   "source": [
    "import pandas as pd\n",
    "output_path = 'data/combined/'\n",
    "date = '240411'"
   ]
  },
  {
   "cell_type": "code",
   "outputs": [],
   "source": [
    "pcs_all = pd.read_parquet(output_path+date+'_All/facilityEmissions_'+'PC4'+'_.parquet')\n",
    "ints_all = pd.read_parquet(output_path+date+'_All/facilityEmissions_'+'IC3'+'_.parquet')\n",
    "ds_all = pd.read_parquet(output_path+date+'_All/facilityEmissions_'+'DS2'+'_.parquet')"
   ],
   "metadata": {
    "collapsed": false,
    "ExecuteTime": {
     "end_time": "2024-04-23T10:09:20.201590Z",
     "start_time": "2024-04-23T10:09:18.324999Z"
    }
   },
   "id": "7f3055788828975a",
   "execution_count": 38
  },
  {
   "cell_type": "code",
   "outputs": [],
   "source": [
    "pcs_bio = pd.read_parquet(output_path+date+'_Bio/facilityEmissions_'+'PC4'+'_.parquet')\n",
    "ints_bio = pd.read_parquet(output_path+date+'_Bio/facilityEmissions_'+'IC3'+'_.parquet')\n",
    "ds_bio = pd.read_parquet(output_path+date+'_Bio/facilityEmissions_'+'DS2'+'_.parquet')"
   ],
   "metadata": {
    "collapsed": false,
    "ExecuteTime": {
     "end_time": "2024-04-23T10:09:21.758893Z",
     "start_time": "2024-04-23T10:09:20.201440Z"
    }
   },
   "id": "4793fe279de6971b",
   "execution_count": 39
  },
  {
   "cell_type": "code",
   "outputs": [],
   "source": [
    "# Import chemical type list\n",
    "input_path = '/data/'\n",
    "product_group_path = input_path+'extra_inputs/product_groups.csv'\n",
    "product_group = pd.read_csv(product_group_path, index_col=0)"
   ],
   "metadata": {
    "collapsed": false,
    "ExecuteTime": {
     "end_time": "2024-04-23T10:09:21.764860Z",
     "start_time": "2024-04-23T10:09:21.759787Z"
    }
   },
   "id": "15a25d225f353eb7",
   "execution_count": 40
  },
  {
   "cell_type": "code",
   "outputs": [],
   "source": [
    "# Import regions list\n",
    "country_groupings = pd.read_csv('/data/extra_inputs/country_regions.csv')\n",
    "# Correct country names\n",
    "country_replace_dict = {'United States': 'USA', 'Taiwan, Province Of China':'Taiwan', 'Netherlands-The':'Netherlands', 'Russian Federation':'Russia', 'Hong Kong Special Administrative Region':'Hong Kong', 'Dominican Republ.':'Dominican Republic', 'Congo (Dem.Rep.)':'Democratic Republic of the Congo', 'Congo':'Democratic Republic of the Congo', 'Congo Republic':'Republic of the Congo', 'Slovak Republic':'Slovakia', 'Serbia/Montenegro/Kosovo':'Serbia', 'Bosnia/Herzegovina':'Bosnia and Herzegovina', 'Myanmar(Burma)':'Myanmar', 'Papua N.G.':'Papua New Guinea', 'Uk':'United Kingdom', 'Usa':'USA'}\n",
    "\n",
    "country_groupings['COUNTRY/TERRITORY'] = country_groupings['COUNTRY/TERRITORY'].str.title().replace(country_replace_dict)"
   ],
   "metadata": {
    "collapsed": false,
    "ExecuteTime": {
     "end_time": "2024-04-23T10:09:21.769454Z",
     "start_time": "2024-04-23T10:09:21.765123Z"
    }
   },
   "id": "898ba86a8ba3b945",
   "execution_count": 41
  },
  {
   "cell_type": "code",
   "outputs": [],
   "source": [
    "# Correct Benzene misnaming for Maleic Anhydride Benzene route\n",
    "cols = [str(i) for i in range(1978, 2051)]\n",
    "sigma_cols = [str(i)+'_sigma' for i in range(1978, 2051)]\n",
    "\n",
    "for df in [pcs_all, pcs_bio]:\n",
    "    df.loc[(df['PRODUCT'] == 'BENZENE') & (df['Type'] == 'Direct Process'), cols] = 0\n",
    "    df.loc[(df['PRODUCT'] == 'BENZENE') & (df['Type'] == 'Direct Process'), sigma_cols] = 0"
   ],
   "metadata": {
    "collapsed": false,
    "ExecuteTime": {
     "end_time": "2024-04-23T10:09:24.699382Z",
     "start_time": "2024-04-23T10:09:24.489847Z"
    }
   },
   "id": "1eb897574a7ae443",
   "execution_count": 42
  },
  {
   "cell_type": "code",
   "outputs": [],
   "source": [
    "all = pd.concat([pcs_all, ints_all, ds_all])\n",
    "all = all.merge(product_group, left_on='PRODUCT', right_on='PRODUCT', how='left')\n",
    "\n",
    "all['COUNTRY/TERRITORY'] = all['COUNTRY/TERRITORY'].str.title().replace(country_replace_dict)\n",
    "all = pd.merge(all, country_groupings, on='COUNTRY/TERRITORY', how='left')\n",
    "\n",
    "all.to_parquet(output_path+date+'_All/facilityEmissions_all.parquet')"
   ],
   "metadata": {
    "collapsed": false,
    "ExecuteTime": {
     "end_time": "2024-04-23T10:09:48.943821Z",
     "start_time": "2024-04-23T10:09:30.605251Z"
    }
   },
   "id": "7e4ac2d2937e0c0b",
   "execution_count": 43
  },
  {
   "cell_type": "code",
   "outputs": [],
   "source": [
    "all_bio = pd.concat([pcs_bio, ints_bio, ds_bio])\n",
    "all_bio = all_bio.merge(product_group, left_on='PRODUCT', right_on='PRODUCT', how='left')\n",
    "\n",
    "all_bio = pd.merge(all_bio, country_groupings, on='COUNTRY/TERRITORY', how='left')\n",
    "all_bio['COUNTRY/TERRITORY'] = all_bio['COUNTRY/TERRITORY'].str.title().replace(country_replace_dict)\n",
    "\n",
    "all_bio.to_parquet(output_path+date+'_Bio/facilityEmissions_bio.parquet')"
   ],
   "metadata": {
    "collapsed": false,
    "ExecuteTime": {
     "end_time": "2024-04-23T10:10:07.620315Z",
     "start_time": "2024-04-23T10:09:51.247506Z"
    }
   },
   "id": "952529e98520a8f7",
   "execution_count": 44
  },
  {
   "cell_type": "code",
   "outputs": [],
   "source": [
    "years = [str(i) for i in range(1978, 2051)]\n",
    "years_sigma = [str(i)+'_sigma' for i in range(1978, 2051)]\n",
    "keep_cols = ['PRODUCT', 'Product group', 'Product type', 'Type']"
   ],
   "metadata": {
    "collapsed": false,
    "ExecuteTime": {
     "end_time": "2024-05-02T15:47:16.843742Z",
     "start_time": "2024-05-02T15:47:16.840178Z"
    }
   },
   "id": "9cd1e00c3d3f1a05",
   "execution_count": 5
  },
  {
   "cell_type": "code",
   "outputs": [],
   "source": [
    "all = pd.read_parquet(output_path+date+'_All/facilityEmissions_all.parquet')"
   ],
   "metadata": {
    "collapsed": false,
    "ExecuteTime": {
     "end_time": "2024-05-03T11:32:53.201351Z",
     "start_time": "2024-05-03T11:32:50.245187Z"
    }
   },
   "id": "38021e5589a92d6b",
   "execution_count": 2
  },
  {
   "cell_type": "code",
   "outputs": [],
   "source": [
    "summarised = all[(all['Gas'] == 'CO2e_100a')]\n",
    "summarised = summarised[keep_cols+years+years_sigma].groupby(keep_cols).sum().reset_index()"
   ],
   "metadata": {
    "collapsed": false,
    "ExecuteTime": {
     "end_time": "2024-05-02T15:47:22.656210Z",
     "start_time": "2024-05-02T15:47:21.229192Z"
    }
   },
   "id": "b0d06b9e62e5d660",
   "execution_count": 6
  },
  {
   "cell_type": "code",
   "outputs": [],
   "source": [
    "summarised.to_csv(output_path+date+'_All/summarised_emissions_product.csv')"
   ],
   "metadata": {
    "collapsed": false,
    "ExecuteTime": {
     "end_time": "2024-05-02T15:47:30.808177Z",
     "start_time": "2024-05-02T15:47:30.734039Z"
    }
   },
   "id": "587b6047c2302bcb",
   "execution_count": 7
  },
  {
   "cell_type": "code",
   "outputs": [],
   "source": [
    "summarised = pd.read_csv(output_path+date+'_All/summarised_emissions.csv')"
   ],
   "metadata": {
    "collapsed": false,
    "ExecuteTime": {
     "end_time": "2024-04-23T09:07:06.131178Z",
     "start_time": "2024-04-23T09:07:06.113922Z"
    }
   },
   "id": "914c9a7e024ce9b6",
   "execution_count": 2
  },
  {
   "cell_type": "code",
   "outputs": [
    {
     "name": "stderr",
     "output_type": "stream",
     "text": [
      "/var/folders/xm/c2mlyq6s23nb_g6_v4fylb7h0000gn/T/ipykernel_17401/4107309057.py:5: SettingWithCopyWarning: \n",
      "A value is trying to be set on a copy of a slice from a DataFrame.\n",
      "Try using .loc[row_indexer,col_indexer] = value instead\n",
      "\n",
      "See the caveats in the documentation: https://pandas.pydata.org/pandas-docs/stable/user_guide/indexing.html#returning-a-view-versus-a-copy\n",
      "  sankey_emissions['Type'] = sankey_emissions['Type'].str.replace('Utilities', 'Energy Use')\n"
     ]
    }
   ],
   "source": [
    "exclude_types = ['EI & CM', 'Electricity', 'IHS CtOG']\n",
    "year = 2020\n",
    "gas = 'CO2e_100a'\n",
    "sankey_emissions = summarised[~summarised['Type'].isin(exclude_types)]\n",
    "sankey_emissions['Type'] = sankey_emissions['Type'].str.replace('Utilities', 'Energy Use')\n",
    "sankey_emissions = sankey_emissions[['Product group', 'Product type', 'Type', str(year), str(year)+'_sigma']]"
   ],
   "metadata": {
    "collapsed": false,
    "ExecuteTime": {
     "end_time": "2024-04-23T10:10:21.602408Z",
     "start_time": "2024-04-23T10:10:21.598719Z"
    }
   },
   "id": "4f3ea63acfdd6687",
   "execution_count": 49
  },
  {
   "cell_type": "code",
   "outputs": [],
   "source": [
    "prim_ratio = sankey_emissions[(sankey_emissions['Product group'] == 'Primary chemicals') & (sankey_emissions['Type'] != 'Primary chemicals')]['2020'].sum()/sankey_emissions[(sankey_emissions['Type'] == 'Primary chemicals') & (sankey_emissions['Product group'] != 'Primary chemicals')]['2020'].sum()\n",
    "\n",
    "sankey_balanced = sankey_emissions.copy()\n",
    "sankey_balanced['ratio'] = sankey_balanced['Type'].apply(lambda x: prim_ratio if x == 'Primary chemicals' else 1)\n",
    "sankey_balanced[str(year)] = sankey_balanced[str(year)]*sankey_balanced['ratio']\n",
    "\n",
    "ints_used = sankey_balanced[(sankey_balanced['Product type'] == 'Downstream') & (sankey_balanced['Type'] == 'Intermediates')][str(year)].sum()\n",
    "ints_input = sankey_balanced[(sankey_balanced['Product group'] == 'Intermediates') & (sankey_balanced['Type'] != 'Intermediates')][str(year)].sum()\n",
    "extra_ints = pd.DataFrame(['Other downstream', 'Downstream', 'Intermediates', ints_input-ints_used], index = ['Product group', 'Product type', 'Type', str(year)]).transpose()\n",
    "sankey_balanced = pd.concat([sankey_balanced, extra_ints])\n",
    "sankey_balanced = sankey_balanced.groupby(['Product group', 'Product type', 'Type']).sum().reset_index()\n",
    "# ints_ratio = sankey_emissions[(sankey_emissions['Product group'] == 'Intermediates') & (sankey_emissions['Type'] != 'Intermediates')]['2020'].sum()/sankey_emissions[(sankey_emissions['Type'] == 'Intermediates') & (sankey_emissions['Product group'] != 'Intermediates')]['2020'].sum()\n",
    "# \n",
    "# sankey_balanced['ratio'] = sankey_balanced['Type'].apply(lambda x: ints_ratio if x == 'Intermediates' else 1)\n",
    "# sankey_balanced[str(year)] = sankey_balanced[str(year)]*sankey_balanced['ratio']\n",
    "# sankey_balanced"
   ],
   "metadata": {
    "collapsed": false,
    "ExecuteTime": {
     "end_time": "2024-04-23T10:10:24.967729Z",
     "start_time": "2024-04-23T10:10:24.964442Z"
    }
   },
   "id": "aff0999aaf1f8c35",
   "execution_count": 51
  },
  {
   "cell_type": "code",
   "outputs": [],
   "source": [
    "sankey_for_markers = sankey_balanced.copy()\n",
    "sankey_for_markers = sankey_for_markers[sankey_for_markers[str(year)] > 0]\n",
    "basics = ['Feedstock', 'Indirect Energy Use', 'Direct Energy Use', 'Direct Process']\n",
    "primary_markers = sankey_for_markers[(sankey_for_markers['Product type'] != 'Primary chemicals') & sankey_for_markers['Type'].isin(basics)].groupby(['Type']).sum().reset_index()\n",
    "primary_markers['Product group'], primary_markers['Product type'] = 'First marker', 'marker'\n",
    "\n",
    "intermediate_markers = sankey_for_markers[(sankey_for_markers['Product type'] == 'Downstream') & sankey_for_markers['Type'].isin(basics+['Primary chemicals'])].groupby(['Type']).sum().reset_index()\n",
    "intermediate_markers['Product group'], intermediate_markers['Product type'] = 'Second marker', 'marker'\n",
    "\n",
    "sankey_markers = pd.concat([sankey_balanced, primary_markers, intermediate_markers])"
   ],
   "metadata": {
    "collapsed": false,
    "ExecuteTime": {
     "end_time": "2024-04-23T10:10:24.973848Z",
     "start_time": "2024-04-23T10:10:24.969093Z"
    }
   },
   "id": "1db8e386f4d91010",
   "execution_count": 52
  },
  {
   "cell_type": "code",
   "outputs": [],
   "source": [
    "ds = ['Solvents, additives & explosives', 'Thermoplastics', 'Thermosets, fibre & elastomers', 'N-fertilisers']\n",
    "all_reverse = sankey_emissions[sankey_emissions['Type'].isin(ds)]\n",
    "tot_reverse = pd.DataFrame(all_reverse[all_reverse['Product group'].isin(['Primary chemicals', 'Intermediates'])].sum()).transpose()\n",
    "tot_reverse['Product group'], tot_reverse['Product type'], tot_reverse['Type'] = 'Upstream', 'Upstream', 'Downstream'\n",
    "int_reverse = all_reverse[all_reverse['Product type'] == 'Intermediates']\n",
    "int_reverse = pd.DataFrame(int_reverse.sum()).transpose()\n",
    "int_reverse['Product group'], int_reverse['Product type'], int_reverse['Type'] = 'Intermediates', 'Intermediates', 'Downstream'\n",
    "prim_reverse = all_reverse[all_reverse['Product type'] == 'Primary chemicals']\n",
    "prim_reverse = pd.DataFrame(prim_reverse.sum()).transpose()\n",
    "prim_reverse['Product group'], prim_reverse['Product type'], prim_reverse['Type'] = 'Primary', 'Primary', 'Downstream'\n",
    "sankey_with_reverse = pd.concat([sankey_markers, tot_reverse, int_reverse, prim_reverse])"
   ],
   "metadata": {
    "collapsed": false,
    "ExecuteTime": {
     "end_time": "2024-04-23T10:10:28.384286Z",
     "start_time": "2024-04-23T10:10:28.378348Z"
    }
   },
   "id": "af35d8ff05197f27",
   "execution_count": 53
  },
  {
   "cell_type": "code",
   "outputs": [],
   "source": [
    "sankey_with_capture = sankey_with_reverse.copy()\n",
    "sankey_with_capture[str(year)] = sankey_with_capture[str(year)].apply(lambda x: abs(x))\n",
    "\n",
    "scale_factor = 1E3\n",
    "\n",
    "sankey_with_capture[str(year)] = sankey_with_capture[str(year)]/scale_factor\n",
    "sankey_with_capture[str(year)+'_sigma'] = sankey_with_capture[str(year)+'_sigma']/scale_factor"
   ],
   "metadata": {
    "collapsed": false,
    "ExecuteTime": {
     "end_time": "2024-04-23T10:10:31.513982Z",
     "start_time": "2024-04-23T10:10:31.508296Z"
    }
   },
   "id": "1320f35ca3418c8b",
   "execution_count": 54
  },
  {
   "cell_type": "code",
   "outputs": [],
   "source": [
    "sankey_with_capture.to_excel(output_path+date+'_All/sankey_emissions.xlsx', sheet_name='sankey_emissions')"
   ],
   "metadata": {
    "collapsed": false,
    "ExecuteTime": {
     "end_time": "2024-04-10T11:21:11.958165Z",
     "start_time": "2024-04-10T11:21:11.935796Z"
    }
   },
   "id": "fecfdfd94701bbec",
   "execution_count": 97
  },
  {
   "cell_type": "code",
   "outputs": [],
   "source": [],
   "metadata": {
    "collapsed": false
   },
   "id": "807f43f172259e80"
  }
 ],
 "metadata": {
  "kernelspec": {
   "display_name": "Python 3",
   "language": "python",
   "name": "python3"
  },
  "language_info": {
   "codemirror_mode": {
    "name": "ipython",
    "version": 2
   },
   "file_extension": ".py",
   "mimetype": "text/x-python",
   "name": "python",
   "nbconvert_exporter": "python",
   "pygments_lexer": "ipython2",
   "version": "2.7.6"
  }
 },
 "nbformat": 4,
 "nbformat_minor": 5
}
